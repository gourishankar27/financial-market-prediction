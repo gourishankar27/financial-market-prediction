{
 "cells": [
  {
   "cell_type": "code",
   "execution_count": 1,
   "id": "bd989c8e",
   "metadata": {},
   "outputs": [],
   "source": [
    "import torch\n",
    "import torch.nn as nn\n",
    "import torch.optim as optim\n",
    "from torch.utils.data import Dataset, DataLoader\n",
    "import numpy as np\n",
    "import pandas as pd\n",
    "from sklearn.preprocessing import StandardScaler, MinMaxScaler\n",
    "from sklearn.metrics import mean_squared_error, mean_absolute_error\n",
    "import matplotlib.pyplot as plt\n",
    "from tqdm import tqdm\n",
    "import warnings\n",
    "warnings.filterwarnings('ignore')"
   ]
  },
  {
   "cell_type": "code",
   "execution_count": 2,
   "id": "facda8a5",
   "metadata": {},
   "outputs": [],
   "source": [
    "class FinancialLSTM(nn.Module):\n",
    "    \"\"\"\n",
    "    LSTM Model for Financial Time Series Forecasting\n",
    "\n",
    "    Architecture:\n",
    "    - Input: Sequence of financial features\n",
    "    - LSTM layers with dropout for regularization\n",
    "    - Dense layers for final prediction\n",
    "    - Output: Next-day return prediction\n",
    "    \"\"\"\n",
    "\n",
    "    def __init__(self, input_size, hidden_size=64, num_layers=2, dropout=0.2, output_size=1):\n",
    "        super(FinancialLSTM, self).__init__()\n",
    "\n",
    "        self.hidden_size = hidden_size\n",
    "        self.num_layers = num_layers\n",
    "\n",
    "        # LSTM layers\n",
    "        self.lstm = nn.LSTM(input_size, hidden_size, num_layers, \n",
    "                           batch_first=True, dropout=dropout if num_layers > 1 else 0)\n",
    "\n",
    "        # Dropout for regularization\n",
    "        self.dropout = nn.Dropout(dropout)\n",
    "\n",
    "        # Dense layers\n",
    "        self.fc1 = nn.Linear(hidden_size, hidden_size // 2)\n",
    "        self.fc2 = nn.Linear(hidden_size // 2, output_size)\n",
    "\n",
    "        # Activation\n",
    "        self.relu = nn.ReLU()\n",
    "\n",
    "    def forward(self, x):\n",
    "        # Initialize hidden state\n",
    "        h0 = torch.zeros(self.num_layers, x.size(0), self.hidden_size).to(x.device)\n",
    "        c0 = torch.zeros(self.num_layers, x.size(0), self.hidden_size).to(x.device)\n",
    "\n",
    "        # Forward propagate LSTM\n",
    "        out, _ = self.lstm(x, (h0, c0))\n",
    "\n",
    "        # Take the last output\n",
    "        out = out[:, -1, :]\n",
    "\n",
    "        # Apply dropout\n",
    "        out = self.dropout(out)\n",
    "\n",
    "        # Dense layers\n",
    "        out = self.relu(self.fc1(out))\n",
    "        out = self.dropout(out)\n",
    "        out = self.fc2(out)\n",
    "\n",
    "        return out"
   ]
  },
  {
   "cell_type": "code",
   "execution_count": 3,
   "id": "870d9dcb",
   "metadata": {},
   "outputs": [],
   "source": [
    "class FinancialDataset(Dataset):\n",
    "    \"\"\"Custom Dataset for financial time series data\"\"\"\n",
    "\n",
    "    def __init__(self, features, targets, sequence_length):\n",
    "        self.features = features\n",
    "        self.targets = targets\n",
    "        self.sequence_length = sequence_length\n",
    "\n",
    "    def __len__(self):\n",
    "        return len(self.features) - self.sequence_length + 1\n",
    "\n",
    "    def __getitem__(self, idx):\n",
    "        # Get sequence of features\n",
    "        feature_seq = self.features[idx:idx + self.sequence_length]\n",
    "\n",
    "        # Get corresponding target (next day return)\n",
    "        target = self.targets[idx + self.sequence_length - 1]\n",
    "\n",
    "        return torch.FloatTensor(feature_seq), torch.FloatTensor([target])\n"
   ]
  },
  {
   "cell_type": "code",
   "execution_count": 4,
   "id": "0ac6b42a",
   "metadata": {},
   "outputs": [],
   "source": [
    "class LSTMStockPredictor:\n",
    "    \"\"\"\n",
    "    Complete LSTM-based stock market prediction system\n",
    "    \"\"\"\n",
    "\n",
    "    def __init__(self, sequence_length=30, hidden_size=64, num_layers=2, \n",
    "                 learning_rate=0.001, batch_size=32, epochs=100):\n",
    "\n",
    "        self.sequence_length = sequence_length\n",
    "        self.hidden_size = hidden_size\n",
    "        self.num_layers = num_layers\n",
    "        self.learning_rate = learning_rate\n",
    "        self.batch_size = batch_size\n",
    "        self.epochs = epochs\n",
    "\n",
    "        # Scalers for normalization\n",
    "        self.feature_scaler = StandardScaler()\n",
    "        self.target_scaler = StandardScaler()\n",
    "\n",
    "        self.model = None\n",
    "        self.device = torch.device('cuda' if torch.cuda.is_available() else 'cpu')\n",
    "        print(f\"Using device: {self.device}\")\n",
    "\n",
    "\n",
    "    def prepare_data(self, df, target_col='SP500_Returns', test_size=0.1, val_size=0.1):\n",
    "        \"\"\"\n",
    "        Prepare data for LSTM training\n",
    "        \"\"\"\n",
    "        print(\"Preparing data for LSTM...\")\n",
    "\n",
    "        # Separate features and target\n",
    "        feature_cols = [col for col in df.columns if col != target_col]\n",
    "\n",
    "        features = df[feature_cols].values\n",
    "        targets = df[target_col].values\n",
    "\n",
    "        # Normalize features and targets\n",
    "        features_scaled = self.feature_scaler.fit_transform(features)\n",
    "        targets_scaled = self.target_scaler.fit_transform(targets.reshape(-1, 1)).flatten()\n",
    "\n",
    "        # Split data\n",
    "        total_len = len(features_scaled)\n",
    "        train_len = int(total_len * (1 - test_size - val_size))\n",
    "        val_len = int(total_len * val_size)\n",
    "\n",
    "        # Create train/val/test splits\n",
    "        train_features = features_scaled[:train_len]\n",
    "        train_targets = targets_scaled[:train_len]\n",
    "\n",
    "        val_features = features_scaled[train_len:train_len + val_len]\n",
    "        val_targets = targets_scaled[train_len:train_len + val_len]\n",
    "\n",
    "        test_features = features_scaled[train_len + val_len:]\n",
    "        test_targets = targets_scaled[train_len + val_len:]\n",
    "\n",
    "        # Create datasets\n",
    "        train_dataset = FinancialDataset(train_features, train_targets, self.sequence_length)\n",
    "        val_dataset = FinancialDataset(val_features, val_targets, self.sequence_length)\n",
    "        test_dataset = FinancialDataset(test_features, test_targets, self.sequence_length)\n",
    "\n",
    "        # Create data loaders\n",
    "        self.train_loader = DataLoader(train_dataset, batch_size=self.batch_size, shuffle=True)\n",
    "        self.val_loader = DataLoader(val_dataset, batch_size=self.batch_size, shuffle=False)\n",
    "        self.test_loader = DataLoader(test_dataset, batch_size=self.batch_size, shuffle=False)\n",
    "\n",
    "        print(f\"Data prepared:\")\n",
    "        print(f\"  Train sequences: {len(train_dataset)}\")\n",
    "        print(f\"  Validation sequences: {len(val_dataset)}\")\n",
    "        print(f\"  Test sequences: {len(test_dataset)}\")\n",
    "        print(f\"  Features: {len(feature_cols)}\")\n",
    "        print(f\"  Sequence length: {self.sequence_length}\")\n",
    "\n",
    "        return len(feature_cols)\n",
    "    \n",
    "\n",
    "    def build_model(self, input_size):\n",
    "        \"\"\"Build and initialize the LSTM model\"\"\"\n",
    "        self.model = FinancialLSTM(\n",
    "            input_size=input_size,\n",
    "            hidden_size=self.hidden_size,\n",
    "            num_layers=self.num_layers,\n",
    "            dropout=0.2\n",
    "        ).to(self.device)\n",
    "\n",
    "        # Loss function and optimizer\n",
    "        self.criterion = nn.MSELoss()\n",
    "        self.optimizer = optim.Adam(self.model.parameters(), lr=self.learning_rate)\n",
    "        self.scheduler = optim.lr_scheduler.ReduceLROnPlateau(\n",
    "            self.optimizer, mode='min', factor=0.5, patience=10\n",
    "        )\n",
    "\n",
    "        print(f\"Model built:\")\n",
    "        print(f\"  Architecture: LSTM({input_size} -> {self.hidden_size})\")\n",
    "        print(f\"  Layers: {self.num_layers}\")\n",
    "        print(f\"  Parameters: {sum(p.numel() for p in self.model.parameters()):,}\")\n",
    "\n",
    "\n",
    "    def train_model(self, best_weight_path):\n",
    "        \"\"\"Train the LSTM model\"\"\"\n",
    "        print(\"\\nStarting training...\")\n",
    "\n",
    "        train_losses = []\n",
    "        val_losses = []\n",
    "        best_val_loss = float('inf')\n",
    "        patience_counter = 0\n",
    "        early_stop_patience = 100  # could be set it to 20.  40 allows more training \n",
    "\n",
    "        for epoch in range(self.epochs):\n",
    "            # Training phase\n",
    "            self.model.train()\n",
    "            train_loss = 0.0\n",
    "\n",
    "            for batch_features, batch_targets in tqdm(self.train_loader, desc=f'Epoch {epoch+1}'):\n",
    "                batch_features = batch_features.to(self.device)\n",
    "                batch_targets = batch_targets.to(self.device)\n",
    "\n",
    "                # Forward pass\n",
    "                self.optimizer.zero_grad()\n",
    "                outputs = self.model(batch_features)\n",
    "                loss = self.criterion(outputs, batch_targets)\n",
    "\n",
    "                # Backward pass\n",
    "                loss.backward()\n",
    "                torch.nn.utils.clip_grad_norm_(self.model.parameters(), max_norm=1.0)\n",
    "                self.optimizer.step()\n",
    "\n",
    "                train_loss += loss.item()\n",
    "\n",
    "            # Validation phase\n",
    "            self.model.eval()\n",
    "            val_loss = 0.0\n",
    "\n",
    "            with torch.no_grad():\n",
    "                for batch_features, batch_targets in self.val_loader:\n",
    "                    batch_features = batch_features.to(self.device)\n",
    "                    batch_targets = batch_targets.to(self.device)\n",
    "\n",
    "                    outputs = self.model(batch_features)\n",
    "                    loss = self.criterion(outputs, batch_targets)\n",
    "                    val_loss += loss.item()\n",
    "\n",
    "            # Calculate average losses\n",
    "            avg_train_loss = train_loss / len(self.train_loader)\n",
    "            avg_val_loss = val_loss / len(self.val_loader)\n",
    "\n",
    "            train_losses.append(avg_train_loss)\n",
    "            val_losses.append(avg_val_loss)\n",
    "\n",
    "            # Learning rate scheduling\n",
    "            self.scheduler.step(avg_val_loss)\n",
    "\n",
    "            # Early stopping\n",
    "            if avg_val_loss < best_val_loss:\n",
    "                best_val_loss = avg_val_loss\n",
    "                patience_counter = 0\n",
    "                print(f\"Resetting counter: {patience_counter}\")\n",
    "                # Save best model\n",
    "                torch.save(self.model.state_dict(), best_weight_path)\n",
    "            else:\n",
    "                patience_counter += 1\n",
    "                print(f\"Updating counter: {patience_counter}\")\n",
    "\n",
    "            if patience_counter >= early_stop_patience:\n",
    "                print(f\"\\nEarly stopping at epoch {epoch+1}\")\n",
    "                break\n",
    "\n",
    "            # Print progress\n",
    "            if (epoch + 1) % 10 == 0:\n",
    "                print(f\"Epoch {epoch+1}/{self.epochs}\")\n",
    "                print(f\"  Train Loss: {avg_train_loss:.6f}\")\n",
    "                print(f\"  Val Loss: {avg_val_loss:.6f}\")\n",
    "                print(f\"  Best Val Loss: {best_val_loss:.6f}\")\n",
    "\n",
    "        # Load the best model\n",
    "        self.model.load_state_dict(torch.load(best_weight_path))\n",
    "        print(\"\\nTraining completed!\")\n",
    "\n",
    "        return train_losses, val_losses\n",
    "\n",
    "\n",
    "    def evaluate_model(self):\n",
    "        \"\"\"Evaluate the trained model\"\"\"\n",
    "        print(\"\\nEvaluating model...\")\n",
    "\n",
    "        self.model.eval()\n",
    "        all_predictions = []\n",
    "        all_targets = []\n",
    "\n",
    "        with torch.no_grad():\n",
    "            for batch_features, batch_targets in self.test_loader:\n",
    "                batch_features = batch_features.to(self.device)\n",
    "                batch_targets = batch_targets.to(self.device)\n",
    "\n",
    "                outputs = self.model(batch_features)\n",
    "                all_predictions.extend(outputs.cpu().numpy())\n",
    "                all_targets.extend(batch_targets.cpu().numpy())\n",
    "\n",
    "        # Convert to numpy arrays\n",
    "        predictions = np.array(all_predictions).flatten()\n",
    "        targets = np.array(all_targets).flatten()\n",
    "\n",
    "        # Inverse transform to get actual values\n",
    "        predictions_actual = self.target_scaler.inverse_transform(predictions.reshape(-1, 1)).flatten()\n",
    "        targets_actual = self.target_scaler.inverse_transform(targets.reshape(-1, 1)).flatten()\n",
    "\n",
    "        # Calculate metrics\n",
    "        mse = mean_squared_error(targets_actual, predictions_actual)\n",
    "        rmse = np.sqrt(mse)\n",
    "        mae = mean_absolute_error(targets_actual, predictions_actual)\n",
    "\n",
    "        # Directional accuracy\n",
    "        actual_directions = np.sign(targets_actual)\n",
    "        predicted_directions = np.sign(predictions_actual)\n",
    "        directional_accuracy = np.mean(actual_directions == predicted_directions)\n",
    "\n",
    "        # Correlation\n",
    "        correlation = np.corrcoef(targets_actual, predictions_actual)[0, 1]\n",
    "\n",
    "        metrics = {\n",
    "            'RMSE': rmse,\n",
    "            'MAE': mae,\n",
    "            'Directional_Accuracy': directional_accuracy,\n",
    "            'Correlation': correlation,\n",
    "            'Predictions': predictions_actual,\n",
    "            'Targets': targets_actual\n",
    "        }\n",
    "\n",
    "        print(f\"\\nLSTM Model Performance:\")\n",
    "        print(f\"  RMSE: {rmse:.4f}%\")\n",
    "        print(f\"  MAE: {mae:.4f}%\")\n",
    "        print(f\"  Directional Accuracy: {directional_accuracy:.1%}\")\n",
    "        print(f\"  Correlation: {correlation:.4f}\")\n",
    "\n",
    "        return metrics\n",
    "\n",
    "\n",
    "    # All the ARIMAX results are hardcoded. This is just for comaparison purpose. # Can be removed. \n",
    "    def compare_with_baseline(self, arimax_rmse=1.210, arimax_dir_acc=0.488, arimax_corr=0.0005):\n",
    "        \"\"\"Compare LSTM performance with ARIMAX baseline\"\"\"\n",
    "        metrics = self.evaluate_model()\n",
    "\n",
    "        print(f\"\\nLSTM vs ARIMAX COMPARISON:\")\n",
    "        print(\"=\"*45)\n",
    "\n",
    "        rmse_improvement = ((arimax_rmse - metrics['RMSE']) / arimax_rmse) * 100\n",
    "        dir_improvement = ((metrics['Directional_Accuracy'] - arimax_dir_acc) / arimax_dir_acc) * 100\n",
    "        corr_improvement = metrics['Correlation'] - arimax_corr\n",
    "\n",
    "        print(f\"RMSE:\")\n",
    "        print(f\"  ARIMAX: {arimax_rmse:.4f}%\")\n",
    "        print(f\"  LSTM: {metrics['RMSE']:.4f}%\")\n",
    "        print(f\"  Improvement: {rmse_improvement:+.1f}%\")\n",
    "\n",
    "        print(f\"\\nDirectional Accuracy:\")\n",
    "        print(f\"  ARIMAX: {arimax_dir_acc:.1%}\")\n",
    "        print(f\"  LSTM: {metrics['Directional_Accuracy']:.1%}\")\n",
    "        print(f\"  Improvement: {dir_improvement:+.1f}%\")\n",
    "\n",
    "        print(f\"\\nCorrelation:\")\n",
    "        print(f\"  ARIMAX: {arimax_corr:.4f}\")\n",
    "        print(f\"  LSTM: {metrics['Correlation']:.4f}\")\n",
    "        print(f\"  Improvement: {corr_improvement:+.4f}\")\n",
    "\n",
    "        # Success assessment\n",
    "        print(f\"\\nSUCCESS METRICS:\")\n",
    "        if metrics['Directional_Accuracy'] > 0.55:\n",
    "            print(\"Above-random directional accuracy achieved!\")\n",
    "        else:\n",
    "            print(\"Still below 55% directional accuracy target\")\n",
    "\n",
    "        if metrics['RMSE'] < arimax_rmse:\n",
    "            print(\"RMSE improvement over ARIMAX!\")\n",
    "        else:\n",
    "            print(\"RMSE not improved over ARIMAX\")\n",
    "\n",
    "        if metrics['Correlation'] > 0.1:\n",
    "            print(\"Meaningful correlation achieved!\")\n",
    "        else:\n",
    "            print(\"Correlation still weak\")\n",
    "\n",
    "        return metrics"
   ]
  },
  {
   "cell_type": "code",
   "execution_count": 5,
   "id": "250961a6",
   "metadata": {},
   "outputs": [],
   "source": [
    "def main():\n",
    "    \"\"\"Main training pipeline\"\"\"\n",
    "    print(\"LSTM Stock Market Prediction Pipeline\")\n",
    "    print(\"=\"*50)\n",
    "\n",
    "    # Load your enhanced data\n",
    "\n",
    "    best_weight_path = 'weights/best_lstm_model.pth'\n",
    "\n",
    "    df = pd.read_csv('data/optimized_financial_data.csv', index_col=0, parse_dates=True)\n",
    "\n",
    "    # Initialize predictor\n",
    "    predictor = LSTMStockPredictor(\n",
    "        sequence_length=15,    # Look back 15 days\n",
    "        hidden_size=128,       # Hidden layer size\n",
    "        num_layers=3,          # Number of LSTM layers\n",
    "        learning_rate=0.0005,   # Learning rate\n",
    "        batch_size=64,         # Batch size\n",
    "        epochs=200             # Max epochs\n",
    "    )\n",
    "\n",
    "    # Prepare data\n",
    "    input_size = predictor.prepare_data(df, target_col='SP500_Returns')\n",
    "\n",
    "    # Build model\n",
    "    predictor.build_model(input_size)\n",
    "\n",
    "    # Train model\n",
    "    train_losses, val_losses = predictor.train_model(best_weight_path)\n",
    "\n",
    "    # Evaluate and compare\n",
    "    metrics = predictor.compare_with_baseline()\n",
    "\n",
    "    print(\"\\nLSTM Implementation Complete!\")\n",
    "    return predictor, metrics, train_losses, val_losses"
   ]
  },
  {
   "cell_type": "code",
   "execution_count": 6,
   "id": "93332a8c",
   "metadata": {},
   "outputs": [
    {
     "name": "stdout",
     "output_type": "stream",
     "text": [
      "LSTM Stock Market Prediction Pipeline\n",
      "==================================================\n",
      "Using device: cuda\n",
      "Preparing data for LSTM...\n",
      "Data prepared:\n",
      "  Train sequences: 4951\n",
      "  Validation sequences: 606\n",
      "  Test sequences: 608\n",
      "  Features: 67\n",
      "  Sequence length: 15\n",
      "Model built:\n",
      "  Architecture: LSTM(67 -> 128)\n",
      "  Layers: 3\n",
      "  Parameters: 373,377\n",
      "\n",
      "Starting training...\n"
     ]
    },
    {
     "name": "stderr",
     "output_type": "stream",
     "text": [
      "Epoch 1: 100%|██████████████████████████████████████████████████████████████████████████| 78/78 [00:01<00:00, 58.62it/s]\n"
     ]
    },
    {
     "name": "stdout",
     "output_type": "stream",
     "text": [
      "Resetting counter: 0\n"
     ]
    },
    {
     "name": "stderr",
     "output_type": "stream",
     "text": [
      "Epoch 2: 100%|██████████████████████████████████████████████████████████████████████████| 78/78 [00:00<00:00, 78.11it/s]\n"
     ]
    },
    {
     "name": "stdout",
     "output_type": "stream",
     "text": [
      "Resetting counter: 0\n"
     ]
    },
    {
     "name": "stderr",
     "output_type": "stream",
     "text": [
      "Epoch 3: 100%|██████████████████████████████████████████████████████████████████████████| 78/78 [00:00<00:00, 78.21it/s]\n"
     ]
    },
    {
     "name": "stdout",
     "output_type": "stream",
     "text": [
      "Resetting counter: 0\n"
     ]
    },
    {
     "name": "stderr",
     "output_type": "stream",
     "text": [
      "Epoch 4: 100%|██████████████████████████████████████████████████████████████████████████| 78/78 [00:00<00:00, 78.05it/s]\n"
     ]
    },
    {
     "name": "stdout",
     "output_type": "stream",
     "text": [
      "Resetting counter: 0\n"
     ]
    },
    {
     "name": "stderr",
     "output_type": "stream",
     "text": [
      "Epoch 5: 100%|██████████████████████████████████████████████████████████████████████████| 78/78 [00:01<00:00, 77.39it/s]\n"
     ]
    },
    {
     "name": "stdout",
     "output_type": "stream",
     "text": [
      "Resetting counter: 0\n"
     ]
    },
    {
     "name": "stderr",
     "output_type": "stream",
     "text": [
      "Epoch 6: 100%|██████████████████████████████████████████████████████████████████████████| 78/78 [00:01<00:00, 76.03it/s]\n"
     ]
    },
    {
     "name": "stdout",
     "output_type": "stream",
     "text": [
      "Resetting counter: 0\n"
     ]
    },
    {
     "name": "stderr",
     "output_type": "stream",
     "text": [
      "Epoch 7: 100%|██████████████████████████████████████████████████████████████████████████| 78/78 [00:00<00:00, 78.03it/s]\n"
     ]
    },
    {
     "name": "stdout",
     "output_type": "stream",
     "text": [
      "Resetting counter: 0\n"
     ]
    },
    {
     "name": "stderr",
     "output_type": "stream",
     "text": [
      "Epoch 8: 100%|██████████████████████████████████████████████████████████████████████████| 78/78 [00:01<00:00, 76.26it/s]\n"
     ]
    },
    {
     "name": "stdout",
     "output_type": "stream",
     "text": [
      "Updating counter: 1\n"
     ]
    },
    {
     "name": "stderr",
     "output_type": "stream",
     "text": [
      "Epoch 9: 100%|██████████████████████████████████████████████████████████████████████████| 78/78 [00:00<00:00, 79.97it/s]\n"
     ]
    },
    {
     "name": "stdout",
     "output_type": "stream",
     "text": [
      "Resetting counter: 0\n"
     ]
    },
    {
     "name": "stderr",
     "output_type": "stream",
     "text": [
      "Epoch 10: 100%|█████████████████████████████████████████████████████████████████████████| 78/78 [00:00<00:00, 80.13it/s]\n"
     ]
    },
    {
     "name": "stdout",
     "output_type": "stream",
     "text": [
      "Updating counter: 1\n",
      "Epoch 10/200\n",
      "  Train Loss: 0.079344\n",
      "  Val Loss: 0.251610\n",
      "  Best Val Loss: 0.234509\n"
     ]
    },
    {
     "name": "stderr",
     "output_type": "stream",
     "text": [
      "Epoch 11: 100%|█████████████████████████████████████████████████████████████████████████| 78/78 [00:00<00:00, 81.49it/s]\n"
     ]
    },
    {
     "name": "stdout",
     "output_type": "stream",
     "text": [
      "Resetting counter: 0\n"
     ]
    },
    {
     "name": "stderr",
     "output_type": "stream",
     "text": [
      "Epoch 12: 100%|█████████████████████████████████████████████████████████████████████████| 78/78 [00:00<00:00, 80.45it/s]\n"
     ]
    },
    {
     "name": "stdout",
     "output_type": "stream",
     "text": [
      "Resetting counter: 0\n"
     ]
    },
    {
     "name": "stderr",
     "output_type": "stream",
     "text": [
      "Epoch 13: 100%|█████████████████████████████████████████████████████████████████████████| 78/78 [00:01<00:00, 77.24it/s]\n"
     ]
    },
    {
     "name": "stdout",
     "output_type": "stream",
     "text": [
      "Resetting counter: 0\n"
     ]
    },
    {
     "name": "stderr",
     "output_type": "stream",
     "text": [
      "Epoch 14: 100%|█████████████████████████████████████████████████████████████████████████| 78/78 [00:01<00:00, 77.29it/s]\n"
     ]
    },
    {
     "name": "stdout",
     "output_type": "stream",
     "text": [
      "Updating counter: 1\n"
     ]
    },
    {
     "name": "stderr",
     "output_type": "stream",
     "text": [
      "Epoch 15: 100%|█████████████████████████████████████████████████████████████████████████| 78/78 [00:00<00:00, 80.97it/s]\n"
     ]
    },
    {
     "name": "stdout",
     "output_type": "stream",
     "text": [
      "Resetting counter: 0\n"
     ]
    },
    {
     "name": "stderr",
     "output_type": "stream",
     "text": [
      "Epoch 16: 100%|█████████████████████████████████████████████████████████████████████████| 78/78 [00:00<00:00, 82.53it/s]\n"
     ]
    },
    {
     "name": "stdout",
     "output_type": "stream",
     "text": [
      "Updating counter: 1\n"
     ]
    },
    {
     "name": "stderr",
     "output_type": "stream",
     "text": [
      "Epoch 17: 100%|█████████████████████████████████████████████████████████████████████████| 78/78 [00:00<00:00, 79.47it/s]\n"
     ]
    },
    {
     "name": "stdout",
     "output_type": "stream",
     "text": [
      "Updating counter: 2\n"
     ]
    },
    {
     "name": "stderr",
     "output_type": "stream",
     "text": [
      "Epoch 18: 100%|█████████████████████████████████████████████████████████████████████████| 78/78 [00:00<00:00, 83.30it/s]\n"
     ]
    },
    {
     "name": "stdout",
     "output_type": "stream",
     "text": [
      "Updating counter: 3\n"
     ]
    },
    {
     "name": "stderr",
     "output_type": "stream",
     "text": [
      "Epoch 19: 100%|█████████████████████████████████████████████████████████████████████████| 78/78 [00:00<00:00, 84.27it/s]\n"
     ]
    },
    {
     "name": "stdout",
     "output_type": "stream",
     "text": [
      "Updating counter: 4\n"
     ]
    },
    {
     "name": "stderr",
     "output_type": "stream",
     "text": [
      "Epoch 20: 100%|█████████████████████████████████████████████████████████████████████████| 78/78 [00:00<00:00, 84.27it/s]\n"
     ]
    },
    {
     "name": "stdout",
     "output_type": "stream",
     "text": [
      "Resetting counter: 0\n",
      "Epoch 20/200\n",
      "  Train Loss: 0.042816\n",
      "  Val Loss: 0.119233\n",
      "  Best Val Loss: 0.119233\n"
     ]
    },
    {
     "name": "stderr",
     "output_type": "stream",
     "text": [
      "Epoch 21: 100%|█████████████████████████████████████████████████████████████████████████| 78/78 [00:00<00:00, 84.20it/s]\n"
     ]
    },
    {
     "name": "stdout",
     "output_type": "stream",
     "text": [
      "Updating counter: 1\n"
     ]
    },
    {
     "name": "stderr",
     "output_type": "stream",
     "text": [
      "Epoch 22: 100%|█████████████████████████████████████████████████████████████████████████| 78/78 [00:00<00:00, 84.15it/s]\n"
     ]
    },
    {
     "name": "stdout",
     "output_type": "stream",
     "text": [
      "Updating counter: 2\n"
     ]
    },
    {
     "name": "stderr",
     "output_type": "stream",
     "text": [
      "Epoch 23: 100%|█████████████████████████████████████████████████████████████████████████| 78/78 [00:00<00:00, 84.34it/s]\n"
     ]
    },
    {
     "name": "stdout",
     "output_type": "stream",
     "text": [
      "Resetting counter: 0\n"
     ]
    },
    {
     "name": "stderr",
     "output_type": "stream",
     "text": [
      "Epoch 24: 100%|█████████████████████████████████████████████████████████████████████████| 78/78 [00:00<00:00, 81.63it/s]\n"
     ]
    },
    {
     "name": "stdout",
     "output_type": "stream",
     "text": [
      "Updating counter: 1\n"
     ]
    },
    {
     "name": "stderr",
     "output_type": "stream",
     "text": [
      "Epoch 25: 100%|█████████████████████████████████████████████████████████████████████████| 78/78 [00:00<00:00, 79.29it/s]\n"
     ]
    },
    {
     "name": "stdout",
     "output_type": "stream",
     "text": [
      "Resetting counter: 0\n"
     ]
    },
    {
     "name": "stderr",
     "output_type": "stream",
     "text": [
      "Epoch 26: 100%|█████████████████████████████████████████████████████████████████████████| 78/78 [00:00<00:00, 81.26it/s]\n"
     ]
    },
    {
     "name": "stdout",
     "output_type": "stream",
     "text": [
      "Updating counter: 1\n"
     ]
    },
    {
     "name": "stderr",
     "output_type": "stream",
     "text": [
      "Epoch 27: 100%|█████████████████████████████████████████████████████████████████████████| 78/78 [00:00<00:00, 82.18it/s]\n"
     ]
    },
    {
     "name": "stdout",
     "output_type": "stream",
     "text": [
      "Updating counter: 2\n"
     ]
    },
    {
     "name": "stderr",
     "output_type": "stream",
     "text": [
      "Epoch 28: 100%|█████████████████████████████████████████████████████████████████████████| 78/78 [00:00<00:00, 82.01it/s]\n"
     ]
    },
    {
     "name": "stdout",
     "output_type": "stream",
     "text": [
      "Updating counter: 3\n"
     ]
    },
    {
     "name": "stderr",
     "output_type": "stream",
     "text": [
      "Epoch 29: 100%|█████████████████████████████████████████████████████████████████████████| 78/78 [00:00<00:00, 82.25it/s]\n"
     ]
    },
    {
     "name": "stdout",
     "output_type": "stream",
     "text": [
      "Updating counter: 4\n"
     ]
    },
    {
     "name": "stderr",
     "output_type": "stream",
     "text": [
      "Epoch 30: 100%|█████████████████████████████████████████████████████████████████████████| 78/78 [00:00<00:00, 80.84it/s]\n"
     ]
    },
    {
     "name": "stdout",
     "output_type": "stream",
     "text": [
      "Updating counter: 5\n",
      "Epoch 30/200\n",
      "  Train Loss: 0.037901\n",
      "  Val Loss: 0.098199\n",
      "  Best Val Loss: 0.082574\n"
     ]
    },
    {
     "name": "stderr",
     "output_type": "stream",
     "text": [
      "Epoch 31: 100%|█████████████████████████████████████████████████████████████████████████| 78/78 [00:00<00:00, 81.01it/s]\n"
     ]
    },
    {
     "name": "stdout",
     "output_type": "stream",
     "text": [
      "Updating counter: 6\n"
     ]
    },
    {
     "name": "stderr",
     "output_type": "stream",
     "text": [
      "Epoch 32: 100%|█████████████████████████████████████████████████████████████████████████| 78/78 [00:00<00:00, 85.37it/s]\n"
     ]
    },
    {
     "name": "stdout",
     "output_type": "stream",
     "text": [
      "Updating counter: 7\n"
     ]
    },
    {
     "name": "stderr",
     "output_type": "stream",
     "text": [
      "Epoch 33: 100%|█████████████████████████████████████████████████████████████████████████| 78/78 [00:00<00:00, 83.09it/s]\n"
     ]
    },
    {
     "name": "stdout",
     "output_type": "stream",
     "text": [
      "Resetting counter: 0\n"
     ]
    },
    {
     "name": "stderr",
     "output_type": "stream",
     "text": [
      "Epoch 34: 100%|█████████████████████████████████████████████████████████████████████████| 78/78 [00:00<00:00, 78.98it/s]\n"
     ]
    },
    {
     "name": "stdout",
     "output_type": "stream",
     "text": [
      "Updating counter: 1\n"
     ]
    },
    {
     "name": "stderr",
     "output_type": "stream",
     "text": [
      "Epoch 35: 100%|█████████████████████████████████████████████████████████████████████████| 78/78 [00:00<00:00, 84.20it/s]\n"
     ]
    },
    {
     "name": "stdout",
     "output_type": "stream",
     "text": [
      "Updating counter: 2\n"
     ]
    },
    {
     "name": "stderr",
     "output_type": "stream",
     "text": [
      "Epoch 36: 100%|█████████████████████████████████████████████████████████████████████████| 78/78 [00:00<00:00, 83.12it/s]\n"
     ]
    },
    {
     "name": "stdout",
     "output_type": "stream",
     "text": [
      "Updating counter: 3\n"
     ]
    },
    {
     "name": "stderr",
     "output_type": "stream",
     "text": [
      "Epoch 37: 100%|█████████████████████████████████████████████████████████████████████████| 78/78 [00:00<00:00, 81.43it/s]\n"
     ]
    },
    {
     "name": "stdout",
     "output_type": "stream",
     "text": [
      "Updating counter: 4\n"
     ]
    },
    {
     "name": "stderr",
     "output_type": "stream",
     "text": [
      "Epoch 38: 100%|█████████████████████████████████████████████████████████████████████████| 78/78 [00:00<00:00, 81.21it/s]\n"
     ]
    },
    {
     "name": "stdout",
     "output_type": "stream",
     "text": [
      "Updating counter: 5\n"
     ]
    },
    {
     "name": "stderr",
     "output_type": "stream",
     "text": [
      "Epoch 39: 100%|█████████████████████████████████████████████████████████████████████████| 78/78 [00:00<00:00, 81.36it/s]\n"
     ]
    },
    {
     "name": "stdout",
     "output_type": "stream",
     "text": [
      "Updating counter: 6\n"
     ]
    },
    {
     "name": "stderr",
     "output_type": "stream",
     "text": [
      "Epoch 40: 100%|█████████████████████████████████████████████████████████████████████████| 78/78 [00:00<00:00, 81.37it/s]\n"
     ]
    },
    {
     "name": "stdout",
     "output_type": "stream",
     "text": [
      "Resetting counter: 0\n",
      "Epoch 40/200\n",
      "  Train Loss: 0.033473\n",
      "  Val Loss: 0.072717\n",
      "  Best Val Loss: 0.072717\n"
     ]
    },
    {
     "name": "stderr",
     "output_type": "stream",
     "text": [
      "Epoch 41: 100%|█████████████████████████████████████████████████████████████████████████| 78/78 [00:00<00:00, 83.24it/s]\n"
     ]
    },
    {
     "name": "stdout",
     "output_type": "stream",
     "text": [
      "Updating counter: 1\n"
     ]
    },
    {
     "name": "stderr",
     "output_type": "stream",
     "text": [
      "Epoch 42: 100%|█████████████████████████████████████████████████████████████████████████| 78/78 [00:00<00:00, 82.99it/s]\n"
     ]
    },
    {
     "name": "stdout",
     "output_type": "stream",
     "text": [
      "Updating counter: 2\n"
     ]
    },
    {
     "name": "stderr",
     "output_type": "stream",
     "text": [
      "Epoch 43: 100%|█████████████████████████████████████████████████████████████████████████| 78/78 [00:00<00:00, 80.77it/s]\n"
     ]
    },
    {
     "name": "stdout",
     "output_type": "stream",
     "text": [
      "Updating counter: 3\n"
     ]
    },
    {
     "name": "stderr",
     "output_type": "stream",
     "text": [
      "Epoch 44: 100%|█████████████████████████████████████████████████████████████████████████| 78/78 [00:00<00:00, 83.18it/s]\n"
     ]
    },
    {
     "name": "stdout",
     "output_type": "stream",
     "text": [
      "Updating counter: 4\n"
     ]
    },
    {
     "name": "stderr",
     "output_type": "stream",
     "text": [
      "Epoch 45: 100%|█████████████████████████████████████████████████████████████████████████| 78/78 [00:00<00:00, 81.47it/s]\n"
     ]
    },
    {
     "name": "stdout",
     "output_type": "stream",
     "text": [
      "Updating counter: 5\n"
     ]
    },
    {
     "name": "stderr",
     "output_type": "stream",
     "text": [
      "Epoch 46: 100%|█████████████████████████████████████████████████████████████████████████| 78/78 [00:00<00:00, 84.62it/s]\n"
     ]
    },
    {
     "name": "stdout",
     "output_type": "stream",
     "text": [
      "Updating counter: 6\n"
     ]
    },
    {
     "name": "stderr",
     "output_type": "stream",
     "text": [
      "Epoch 47: 100%|█████████████████████████████████████████████████████████████████████████| 78/78 [00:00<00:00, 84.59it/s]\n"
     ]
    },
    {
     "name": "stdout",
     "output_type": "stream",
     "text": [
      "Updating counter: 7\n"
     ]
    },
    {
     "name": "stderr",
     "output_type": "stream",
     "text": [
      "Epoch 48: 100%|█████████████████████████████████████████████████████████████████████████| 78/78 [00:00<00:00, 82.15it/s]\n"
     ]
    },
    {
     "name": "stdout",
     "output_type": "stream",
     "text": [
      "Updating counter: 8\n"
     ]
    },
    {
     "name": "stderr",
     "output_type": "stream",
     "text": [
      "Epoch 49: 100%|█████████████████████████████████████████████████████████████████████████| 78/78 [00:00<00:00, 82.52it/s]\n"
     ]
    },
    {
     "name": "stdout",
     "output_type": "stream",
     "text": [
      "Updating counter: 9\n"
     ]
    },
    {
     "name": "stderr",
     "output_type": "stream",
     "text": [
      "Epoch 50: 100%|█████████████████████████████████████████████████████████████████████████| 78/78 [00:00<00:00, 83.77it/s]\n"
     ]
    },
    {
     "name": "stdout",
     "output_type": "stream",
     "text": [
      "Updating counter: 10\n",
      "Epoch 50/200\n",
      "  Train Loss: 0.030579\n",
      "  Val Loss: 0.091297\n",
      "  Best Val Loss: 0.072717\n"
     ]
    },
    {
     "name": "stderr",
     "output_type": "stream",
     "text": [
      "Epoch 51: 100%|█████████████████████████████████████████████████████████████████████████| 78/78 [00:00<00:00, 80.05it/s]\n"
     ]
    },
    {
     "name": "stdout",
     "output_type": "stream",
     "text": [
      "Updating counter: 11\n"
     ]
    },
    {
     "name": "stderr",
     "output_type": "stream",
     "text": [
      "Epoch 52: 100%|█████████████████████████████████████████████████████████████████████████| 78/78 [00:00<00:00, 80.70it/s]\n"
     ]
    },
    {
     "name": "stdout",
     "output_type": "stream",
     "text": [
      "Updating counter: 12\n"
     ]
    },
    {
     "name": "stderr",
     "output_type": "stream",
     "text": [
      "Epoch 53: 100%|█████████████████████████████████████████████████████████████████████████| 78/78 [00:00<00:00, 83.00it/s]\n"
     ]
    },
    {
     "name": "stdout",
     "output_type": "stream",
     "text": [
      "Updating counter: 13\n"
     ]
    },
    {
     "name": "stderr",
     "output_type": "stream",
     "text": [
      "Epoch 54: 100%|█████████████████████████████████████████████████████████████████████████| 78/78 [00:00<00:00, 78.89it/s]\n"
     ]
    },
    {
     "name": "stdout",
     "output_type": "stream",
     "text": [
      "Updating counter: 14\n"
     ]
    },
    {
     "name": "stderr",
     "output_type": "stream",
     "text": [
      "Epoch 55: 100%|█████████████████████████████████████████████████████████████████████████| 78/78 [00:00<00:00, 82.73it/s]\n"
     ]
    },
    {
     "name": "stdout",
     "output_type": "stream",
     "text": [
      "Updating counter: 15\n"
     ]
    },
    {
     "name": "stderr",
     "output_type": "stream",
     "text": [
      "Epoch 56: 100%|█████████████████████████████████████████████████████████████████████████| 78/78 [00:00<00:00, 80.39it/s]\n"
     ]
    },
    {
     "name": "stdout",
     "output_type": "stream",
     "text": [
      "Updating counter: 16\n"
     ]
    },
    {
     "name": "stderr",
     "output_type": "stream",
     "text": [
      "Epoch 57: 100%|█████████████████████████████████████████████████████████████████████████| 78/78 [00:00<00:00, 84.30it/s]\n"
     ]
    },
    {
     "name": "stdout",
     "output_type": "stream",
     "text": [
      "Updating counter: 17\n"
     ]
    },
    {
     "name": "stderr",
     "output_type": "stream",
     "text": [
      "Epoch 58: 100%|█████████████████████████████████████████████████████████████████████████| 78/78 [00:00<00:00, 82.70it/s]\n"
     ]
    },
    {
     "name": "stdout",
     "output_type": "stream",
     "text": [
      "Updating counter: 18\n"
     ]
    },
    {
     "name": "stderr",
     "output_type": "stream",
     "text": [
      "Epoch 59: 100%|█████████████████████████████████████████████████████████████████████████| 78/78 [00:00<00:00, 83.89it/s]\n"
     ]
    },
    {
     "name": "stdout",
     "output_type": "stream",
     "text": [
      "Updating counter: 19\n"
     ]
    },
    {
     "name": "stderr",
     "output_type": "stream",
     "text": [
      "Epoch 60: 100%|█████████████████████████████████████████████████████████████████████████| 78/78 [00:00<00:00, 86.39it/s]\n"
     ]
    },
    {
     "name": "stdout",
     "output_type": "stream",
     "text": [
      "Updating counter: 20\n",
      "Epoch 60/200\n",
      "  Train Loss: 0.027127\n",
      "  Val Loss: 0.091139\n",
      "  Best Val Loss: 0.072717\n"
     ]
    },
    {
     "name": "stderr",
     "output_type": "stream",
     "text": [
      "Epoch 61: 100%|█████████████████████████████████████████████████████████████████████████| 78/78 [00:00<00:00, 86.30it/s]\n"
     ]
    },
    {
     "name": "stdout",
     "output_type": "stream",
     "text": [
      "Updating counter: 21\n"
     ]
    },
    {
     "name": "stderr",
     "output_type": "stream",
     "text": [
      "Epoch 62: 100%|█████████████████████████████████████████████████████████████████████████| 78/78 [00:00<00:00, 83.83it/s]\n"
     ]
    },
    {
     "name": "stdout",
     "output_type": "stream",
     "text": [
      "Updating counter: 22\n"
     ]
    },
    {
     "name": "stderr",
     "output_type": "stream",
     "text": [
      "Epoch 63: 100%|█████████████████████████████████████████████████████████████████████████| 78/78 [00:00<00:00, 79.85it/s]\n"
     ]
    },
    {
     "name": "stdout",
     "output_type": "stream",
     "text": [
      "Updating counter: 23\n"
     ]
    },
    {
     "name": "stderr",
     "output_type": "stream",
     "text": [
      "Epoch 64: 100%|█████████████████████████████████████████████████████████████████████████| 78/78 [00:00<00:00, 80.36it/s]\n"
     ]
    },
    {
     "name": "stdout",
     "output_type": "stream",
     "text": [
      "Updating counter: 24\n"
     ]
    },
    {
     "name": "stderr",
     "output_type": "stream",
     "text": [
      "Epoch 65: 100%|█████████████████████████████████████████████████████████████████████████| 78/78 [00:00<00:00, 80.74it/s]\n"
     ]
    },
    {
     "name": "stdout",
     "output_type": "stream",
     "text": [
      "Updating counter: 25\n"
     ]
    },
    {
     "name": "stderr",
     "output_type": "stream",
     "text": [
      "Epoch 66: 100%|█████████████████████████████████████████████████████████████████████████| 78/78 [00:00<00:00, 81.07it/s]\n"
     ]
    },
    {
     "name": "stdout",
     "output_type": "stream",
     "text": [
      "Updating counter: 26\n"
     ]
    },
    {
     "name": "stderr",
     "output_type": "stream",
     "text": [
      "Epoch 67: 100%|█████████████████████████████████████████████████████████████████████████| 78/78 [00:00<00:00, 82.42it/s]\n"
     ]
    },
    {
     "name": "stdout",
     "output_type": "stream",
     "text": [
      "Updating counter: 27\n"
     ]
    },
    {
     "name": "stderr",
     "output_type": "stream",
     "text": [
      "Epoch 68: 100%|█████████████████████████████████████████████████████████████████████████| 78/78 [00:00<00:00, 82.44it/s]\n"
     ]
    },
    {
     "name": "stdout",
     "output_type": "stream",
     "text": [
      "Updating counter: 28\n"
     ]
    },
    {
     "name": "stderr",
     "output_type": "stream",
     "text": [
      "Epoch 69: 100%|█████████████████████████████████████████████████████████████████████████| 78/78 [00:00<00:00, 82.21it/s]\n"
     ]
    },
    {
     "name": "stdout",
     "output_type": "stream",
     "text": [
      "Updating counter: 29\n"
     ]
    },
    {
     "name": "stderr",
     "output_type": "stream",
     "text": [
      "Epoch 70: 100%|█████████████████████████████████████████████████████████████████████████| 78/78 [00:00<00:00, 81.32it/s]\n"
     ]
    },
    {
     "name": "stdout",
     "output_type": "stream",
     "text": [
      "Updating counter: 30\n",
      "Epoch 70/200\n",
      "  Train Loss: 0.022396\n",
      "  Val Loss: 0.079106\n",
      "  Best Val Loss: 0.072717\n"
     ]
    },
    {
     "name": "stderr",
     "output_type": "stream",
     "text": [
      "Epoch 71: 100%|█████████████████████████████████████████████████████████████████████████| 78/78 [00:00<00:00, 79.76it/s]\n"
     ]
    },
    {
     "name": "stdout",
     "output_type": "stream",
     "text": [
      "Updating counter: 31\n"
     ]
    },
    {
     "name": "stderr",
     "output_type": "stream",
     "text": [
      "Epoch 72: 100%|█████████████████████████████████████████████████████████████████████████| 78/78 [00:00<00:00, 83.82it/s]\n"
     ]
    },
    {
     "name": "stdout",
     "output_type": "stream",
     "text": [
      "Updating counter: 32\n"
     ]
    },
    {
     "name": "stderr",
     "output_type": "stream",
     "text": [
      "Epoch 73: 100%|█████████████████████████████████████████████████████████████████████████| 78/78 [00:00<00:00, 80.61it/s]\n"
     ]
    },
    {
     "name": "stdout",
     "output_type": "stream",
     "text": [
      "Updating counter: 33\n"
     ]
    },
    {
     "name": "stderr",
     "output_type": "stream",
     "text": [
      "Epoch 74: 100%|█████████████████████████████████████████████████████████████████████████| 78/78 [00:00<00:00, 81.66it/s]\n"
     ]
    },
    {
     "name": "stdout",
     "output_type": "stream",
     "text": [
      "Updating counter: 34\n"
     ]
    },
    {
     "name": "stderr",
     "output_type": "stream",
     "text": [
      "Epoch 75: 100%|█████████████████████████████████████████████████████████████████████████| 78/78 [00:00<00:00, 80.72it/s]\n"
     ]
    },
    {
     "name": "stdout",
     "output_type": "stream",
     "text": [
      "Updating counter: 35\n"
     ]
    },
    {
     "name": "stderr",
     "output_type": "stream",
     "text": [
      "Epoch 76: 100%|█████████████████████████████████████████████████████████████████████████| 78/78 [00:00<00:00, 85.07it/s]\n"
     ]
    },
    {
     "name": "stdout",
     "output_type": "stream",
     "text": [
      "Updating counter: 36\n"
     ]
    },
    {
     "name": "stderr",
     "output_type": "stream",
     "text": [
      "Epoch 77: 100%|█████████████████████████████████████████████████████████████████████████| 78/78 [00:00<00:00, 87.17it/s]\n"
     ]
    },
    {
     "name": "stdout",
     "output_type": "stream",
     "text": [
      "Updating counter: 37\n"
     ]
    },
    {
     "name": "stderr",
     "output_type": "stream",
     "text": [
      "Epoch 78: 100%|█████████████████████████████████████████████████████████████████████████| 78/78 [00:00<00:00, 82.42it/s]\n"
     ]
    },
    {
     "name": "stdout",
     "output_type": "stream",
     "text": [
      "Updating counter: 38\n"
     ]
    },
    {
     "name": "stderr",
     "output_type": "stream",
     "text": [
      "Epoch 79: 100%|█████████████████████████████████████████████████████████████████████████| 78/78 [00:00<00:00, 80.93it/s]\n"
     ]
    },
    {
     "name": "stdout",
     "output_type": "stream",
     "text": [
      "Updating counter: 39\n"
     ]
    },
    {
     "name": "stderr",
     "output_type": "stream",
     "text": [
      "Epoch 80: 100%|█████████████████████████████████████████████████████████████████████████| 78/78 [00:00<00:00, 81.64it/s]\n"
     ]
    },
    {
     "name": "stdout",
     "output_type": "stream",
     "text": [
      "Resetting counter: 0\n",
      "Epoch 80/200\n",
      "  Train Loss: 0.023723\n",
      "  Val Loss: 0.070470\n",
      "  Best Val Loss: 0.070470\n"
     ]
    },
    {
     "name": "stderr",
     "output_type": "stream",
     "text": [
      "Epoch 81: 100%|█████████████████████████████████████████████████████████████████████████| 78/78 [00:01<00:00, 77.56it/s]\n"
     ]
    },
    {
     "name": "stdout",
     "output_type": "stream",
     "text": [
      "Updating counter: 1\n"
     ]
    },
    {
     "name": "stderr",
     "output_type": "stream",
     "text": [
      "Epoch 82: 100%|█████████████████████████████████████████████████████████████████████████| 78/78 [00:00<00:00, 82.37it/s]\n"
     ]
    },
    {
     "name": "stdout",
     "output_type": "stream",
     "text": [
      "Resetting counter: 0\n"
     ]
    },
    {
     "name": "stderr",
     "output_type": "stream",
     "text": [
      "Epoch 83: 100%|█████████████████████████████████████████████████████████████████████████| 78/78 [00:00<00:00, 83.29it/s]\n"
     ]
    },
    {
     "name": "stdout",
     "output_type": "stream",
     "text": [
      "Updating counter: 1\n"
     ]
    },
    {
     "name": "stderr",
     "output_type": "stream",
     "text": [
      "Epoch 84: 100%|█████████████████████████████████████████████████████████████████████████| 78/78 [00:00<00:00, 81.83it/s]\n"
     ]
    },
    {
     "name": "stdout",
     "output_type": "stream",
     "text": [
      "Resetting counter: 0\n"
     ]
    },
    {
     "name": "stderr",
     "output_type": "stream",
     "text": [
      "Epoch 85: 100%|█████████████████████████████████████████████████████████████████████████| 78/78 [00:00<00:00, 79.39it/s]\n"
     ]
    },
    {
     "name": "stdout",
     "output_type": "stream",
     "text": [
      "Resetting counter: 0\n"
     ]
    },
    {
     "name": "stderr",
     "output_type": "stream",
     "text": [
      "Epoch 86: 100%|█████████████████████████████████████████████████████████████████████████| 78/78 [00:00<00:00, 80.93it/s]\n"
     ]
    },
    {
     "name": "stdout",
     "output_type": "stream",
     "text": [
      "Updating counter: 1\n"
     ]
    },
    {
     "name": "stderr",
     "output_type": "stream",
     "text": [
      "Epoch 87: 100%|█████████████████████████████████████████████████████████████████████████| 78/78 [00:00<00:00, 81.03it/s]\n"
     ]
    },
    {
     "name": "stdout",
     "output_type": "stream",
     "text": [
      "Updating counter: 2\n"
     ]
    },
    {
     "name": "stderr",
     "output_type": "stream",
     "text": [
      "Epoch 88: 100%|█████████████████████████████████████████████████████████████████████████| 78/78 [00:00<00:00, 80.37it/s]\n"
     ]
    },
    {
     "name": "stdout",
     "output_type": "stream",
     "text": [
      "Updating counter: 3\n"
     ]
    },
    {
     "name": "stderr",
     "output_type": "stream",
     "text": [
      "Epoch 89: 100%|█████████████████████████████████████████████████████████████████████████| 78/78 [00:01<00:00, 77.97it/s]\n"
     ]
    },
    {
     "name": "stdout",
     "output_type": "stream",
     "text": [
      "Updating counter: 4\n"
     ]
    },
    {
     "name": "stderr",
     "output_type": "stream",
     "text": [
      "Epoch 90: 100%|█████████████████████████████████████████████████████████████████████████| 78/78 [00:00<00:00, 82.09it/s]\n"
     ]
    },
    {
     "name": "stdout",
     "output_type": "stream",
     "text": [
      "Updating counter: 5\n",
      "Epoch 90/200\n",
      "  Train Loss: 0.020644\n",
      "  Val Loss: 0.075073\n",
      "  Best Val Loss: 0.067739\n"
     ]
    },
    {
     "name": "stderr",
     "output_type": "stream",
     "text": [
      "Epoch 91: 100%|█████████████████████████████████████████████████████████████████████████| 78/78 [00:00<00:00, 81.62it/s]\n"
     ]
    },
    {
     "name": "stdout",
     "output_type": "stream",
     "text": [
      "Resetting counter: 0\n"
     ]
    },
    {
     "name": "stderr",
     "output_type": "stream",
     "text": [
      "Epoch 92: 100%|█████████████████████████████████████████████████████████████████████████| 78/78 [00:00<00:00, 81.12it/s]\n"
     ]
    },
    {
     "name": "stdout",
     "output_type": "stream",
     "text": [
      "Updating counter: 1\n"
     ]
    },
    {
     "name": "stderr",
     "output_type": "stream",
     "text": [
      "Epoch 93: 100%|█████████████████████████████████████████████████████████████████████████| 78/78 [00:00<00:00, 82.06it/s]\n"
     ]
    },
    {
     "name": "stdout",
     "output_type": "stream",
     "text": [
      "Updating counter: 2\n"
     ]
    },
    {
     "name": "stderr",
     "output_type": "stream",
     "text": [
      "Epoch 94: 100%|█████████████████████████████████████████████████████████████████████████| 78/78 [00:00<00:00, 83.09it/s]\n"
     ]
    },
    {
     "name": "stdout",
     "output_type": "stream",
     "text": [
      "Updating counter: 3\n"
     ]
    },
    {
     "name": "stderr",
     "output_type": "stream",
     "text": [
      "Epoch 95: 100%|█████████████████████████████████████████████████████████████████████████| 78/78 [00:00<00:00, 82.53it/s]\n"
     ]
    },
    {
     "name": "stdout",
     "output_type": "stream",
     "text": [
      "Updating counter: 4\n"
     ]
    },
    {
     "name": "stderr",
     "output_type": "stream",
     "text": [
      "Epoch 96: 100%|█████████████████████████████████████████████████████████████████████████| 78/78 [00:01<00:00, 70.92it/s]\n"
     ]
    },
    {
     "name": "stdout",
     "output_type": "stream",
     "text": [
      "Updating counter: 5\n"
     ]
    },
    {
     "name": "stderr",
     "output_type": "stream",
     "text": [
      "Epoch 97: 100%|█████████████████████████████████████████████████████████████████████████| 78/78 [00:01<00:00, 77.96it/s]\n"
     ]
    },
    {
     "name": "stdout",
     "output_type": "stream",
     "text": [
      "Updating counter: 6\n"
     ]
    },
    {
     "name": "stderr",
     "output_type": "stream",
     "text": [
      "Epoch 98: 100%|█████████████████████████████████████████████████████████████████████████| 78/78 [00:00<00:00, 83.23it/s]\n"
     ]
    },
    {
     "name": "stdout",
     "output_type": "stream",
     "text": [
      "Updating counter: 7\n"
     ]
    },
    {
     "name": "stderr",
     "output_type": "stream",
     "text": [
      "Epoch 99: 100%|█████████████████████████████████████████████████████████████████████████| 78/78 [00:00<00:00, 82.50it/s]\n"
     ]
    },
    {
     "name": "stdout",
     "output_type": "stream",
     "text": [
      "Updating counter: 8\n"
     ]
    },
    {
     "name": "stderr",
     "output_type": "stream",
     "text": [
      "Epoch 100: 100%|████████████████████████████████████████████████████████████████████████| 78/78 [00:00<00:00, 82.77it/s]\n"
     ]
    },
    {
     "name": "stdout",
     "output_type": "stream",
     "text": [
      "Updating counter: 9\n",
      "Epoch 100/200\n",
      "  Train Loss: 0.020994\n",
      "  Val Loss: 0.085967\n",
      "  Best Val Loss: 0.067502\n"
     ]
    },
    {
     "name": "stderr",
     "output_type": "stream",
     "text": [
      "Epoch 101: 100%|████████████████████████████████████████████████████████████████████████| 78/78 [00:00<00:00, 81.47it/s]\n"
     ]
    },
    {
     "name": "stdout",
     "output_type": "stream",
     "text": [
      "Updating counter: 10\n"
     ]
    },
    {
     "name": "stderr",
     "output_type": "stream",
     "text": [
      "Epoch 102: 100%|████████████████████████████████████████████████████████████████████████| 78/78 [00:00<00:00, 81.59it/s]\n"
     ]
    },
    {
     "name": "stdout",
     "output_type": "stream",
     "text": [
      "Updating counter: 11\n"
     ]
    },
    {
     "name": "stderr",
     "output_type": "stream",
     "text": [
      "Epoch 103: 100%|████████████████████████████████████████████████████████████████████████| 78/78 [00:01<00:00, 76.66it/s]\n"
     ]
    },
    {
     "name": "stdout",
     "output_type": "stream",
     "text": [
      "Updating counter: 12\n"
     ]
    },
    {
     "name": "stderr",
     "output_type": "stream",
     "text": [
      "Epoch 104: 100%|████████████████████████████████████████████████████████████████████████| 78/78 [00:00<00:00, 82.85it/s]\n"
     ]
    },
    {
     "name": "stdout",
     "output_type": "stream",
     "text": [
      "Updating counter: 13\n"
     ]
    },
    {
     "name": "stderr",
     "output_type": "stream",
     "text": [
      "Epoch 105: 100%|████████████████████████████████████████████████████████████████████████| 78/78 [00:00<00:00, 79.12it/s]\n"
     ]
    },
    {
     "name": "stdout",
     "output_type": "stream",
     "text": [
      "Updating counter: 14\n"
     ]
    },
    {
     "name": "stderr",
     "output_type": "stream",
     "text": [
      "Epoch 106: 100%|████████████████████████████████████████████████████████████████████████| 78/78 [00:00<00:00, 82.57it/s]\n"
     ]
    },
    {
     "name": "stdout",
     "output_type": "stream",
     "text": [
      "Updating counter: 15\n"
     ]
    },
    {
     "name": "stderr",
     "output_type": "stream",
     "text": [
      "Epoch 107: 100%|████████████████████████████████████████████████████████████████████████| 78/78 [00:00<00:00, 83.87it/s]\n"
     ]
    },
    {
     "name": "stdout",
     "output_type": "stream",
     "text": [
      "Updating counter: 16\n"
     ]
    },
    {
     "name": "stderr",
     "output_type": "stream",
     "text": [
      "Epoch 108: 100%|████████████████████████████████████████████████████████████████████████| 78/78 [00:00<00:00, 79.62it/s]\n"
     ]
    },
    {
     "name": "stdout",
     "output_type": "stream",
     "text": [
      "Updating counter: 17\n"
     ]
    },
    {
     "name": "stderr",
     "output_type": "stream",
     "text": [
      "Epoch 109: 100%|████████████████████████████████████████████████████████████████████████| 78/78 [00:00<00:00, 80.18it/s]\n"
     ]
    },
    {
     "name": "stdout",
     "output_type": "stream",
     "text": [
      "Updating counter: 18\n"
     ]
    },
    {
     "name": "stderr",
     "output_type": "stream",
     "text": [
      "Epoch 110: 100%|████████████████████████████████████████████████████████████████████████| 78/78 [00:00<00:00, 79.45it/s]\n"
     ]
    },
    {
     "name": "stdout",
     "output_type": "stream",
     "text": [
      "Updating counter: 19\n",
      "Epoch 110/200\n",
      "  Train Loss: 0.021427\n",
      "  Val Loss: 0.087341\n",
      "  Best Val Loss: 0.067502\n"
     ]
    },
    {
     "name": "stderr",
     "output_type": "stream",
     "text": [
      "Epoch 111: 100%|████████████████████████████████████████████████████████████████████████| 78/78 [00:00<00:00, 79.04it/s]\n"
     ]
    },
    {
     "name": "stdout",
     "output_type": "stream",
     "text": [
      "Updating counter: 20\n"
     ]
    },
    {
     "name": "stderr",
     "output_type": "stream",
     "text": [
      "Epoch 112: 100%|████████████████████████████████████████████████████████████████████████| 78/78 [00:00<00:00, 81.66it/s]\n"
     ]
    },
    {
     "name": "stdout",
     "output_type": "stream",
     "text": [
      "Updating counter: 21\n"
     ]
    },
    {
     "name": "stderr",
     "output_type": "stream",
     "text": [
      "Epoch 113: 100%|████████████████████████████████████████████████████████████████████████| 78/78 [00:00<00:00, 81.35it/s]\n"
     ]
    },
    {
     "name": "stdout",
     "output_type": "stream",
     "text": [
      "Updating counter: 22\n"
     ]
    },
    {
     "name": "stderr",
     "output_type": "stream",
     "text": [
      "Epoch 114: 100%|████████████████████████████████████████████████████████████████████████| 78/78 [00:00<00:00, 83.41it/s]\n"
     ]
    },
    {
     "name": "stdout",
     "output_type": "stream",
     "text": [
      "Updating counter: 23\n"
     ]
    },
    {
     "name": "stderr",
     "output_type": "stream",
     "text": [
      "Epoch 115: 100%|████████████████████████████████████████████████████████████████████████| 78/78 [00:00<00:00, 86.67it/s]\n"
     ]
    },
    {
     "name": "stdout",
     "output_type": "stream",
     "text": [
      "Updating counter: 24\n"
     ]
    },
    {
     "name": "stderr",
     "output_type": "stream",
     "text": [
      "Epoch 116: 100%|████████████████████████████████████████████████████████████████████████| 78/78 [00:00<00:00, 89.81it/s]\n"
     ]
    },
    {
     "name": "stdout",
     "output_type": "stream",
     "text": [
      "Updating counter: 25\n"
     ]
    },
    {
     "name": "stderr",
     "output_type": "stream",
     "text": [
      "Epoch 117: 100%|████████████████████████████████████████████████████████████████████████| 78/78 [00:00<00:00, 81.29it/s]\n"
     ]
    },
    {
     "name": "stdout",
     "output_type": "stream",
     "text": [
      "Updating counter: 26\n"
     ]
    },
    {
     "name": "stderr",
     "output_type": "stream",
     "text": [
      "Epoch 118: 100%|████████████████████████████████████████████████████████████████████████| 78/78 [00:00<00:00, 80.30it/s]\n"
     ]
    },
    {
     "name": "stdout",
     "output_type": "stream",
     "text": [
      "Updating counter: 27\n"
     ]
    },
    {
     "name": "stderr",
     "output_type": "stream",
     "text": [
      "Epoch 119: 100%|████████████████████████████████████████████████████████████████████████| 78/78 [00:00<00:00, 80.48it/s]\n"
     ]
    },
    {
     "name": "stdout",
     "output_type": "stream",
     "text": [
      "Updating counter: 28\n"
     ]
    },
    {
     "name": "stderr",
     "output_type": "stream",
     "text": [
      "Epoch 120: 100%|████████████████████████████████████████████████████████████████████████| 78/78 [00:00<00:00, 80.36it/s]\n"
     ]
    },
    {
     "name": "stdout",
     "output_type": "stream",
     "text": [
      "Updating counter: 29\n",
      "Epoch 120/200\n",
      "  Train Loss: 0.020163\n",
      "  Val Loss: 0.091502\n",
      "  Best Val Loss: 0.067502\n"
     ]
    },
    {
     "name": "stderr",
     "output_type": "stream",
     "text": [
      "Epoch 121: 100%|████████████████████████████████████████████████████████████████████████| 78/78 [00:00<00:00, 78.69it/s]\n"
     ]
    },
    {
     "name": "stdout",
     "output_type": "stream",
     "text": [
      "Updating counter: 30\n"
     ]
    },
    {
     "name": "stderr",
     "output_type": "stream",
     "text": [
      "Epoch 122: 100%|████████████████████████████████████████████████████████████████████████| 78/78 [00:00<00:00, 80.12it/s]\n"
     ]
    },
    {
     "name": "stdout",
     "output_type": "stream",
     "text": [
      "Updating counter: 31\n"
     ]
    },
    {
     "name": "stderr",
     "output_type": "stream",
     "text": [
      "Epoch 123: 100%|████████████████████████████████████████████████████████████████████████| 78/78 [00:00<00:00, 81.16it/s]\n"
     ]
    },
    {
     "name": "stdout",
     "output_type": "stream",
     "text": [
      "Updating counter: 32\n"
     ]
    },
    {
     "name": "stderr",
     "output_type": "stream",
     "text": [
      "Epoch 124: 100%|████████████████████████████████████████████████████████████████████████| 78/78 [00:00<00:00, 85.66it/s]\n"
     ]
    },
    {
     "name": "stdout",
     "output_type": "stream",
     "text": [
      "Updating counter: 33\n"
     ]
    },
    {
     "name": "stderr",
     "output_type": "stream",
     "text": [
      "Epoch 125: 100%|████████████████████████████████████████████████████████████████████████| 78/78 [00:00<00:00, 83.18it/s]\n"
     ]
    },
    {
     "name": "stdout",
     "output_type": "stream",
     "text": [
      "Updating counter: 34\n"
     ]
    },
    {
     "name": "stderr",
     "output_type": "stream",
     "text": [
      "Epoch 126: 100%|████████████████████████████████████████████████████████████████████████| 78/78 [00:00<00:00, 85.01it/s]\n"
     ]
    },
    {
     "name": "stdout",
     "output_type": "stream",
     "text": [
      "Updating counter: 35\n"
     ]
    },
    {
     "name": "stderr",
     "output_type": "stream",
     "text": [
      "Epoch 127: 100%|████████████████████████████████████████████████████████████████████████| 78/78 [00:00<00:00, 81.60it/s]\n"
     ]
    },
    {
     "name": "stdout",
     "output_type": "stream",
     "text": [
      "Updating counter: 36\n"
     ]
    },
    {
     "name": "stderr",
     "output_type": "stream",
     "text": [
      "Epoch 128: 100%|████████████████████████████████████████████████████████████████████████| 78/78 [00:00<00:00, 82.84it/s]\n"
     ]
    },
    {
     "name": "stdout",
     "output_type": "stream",
     "text": [
      "Updating counter: 37\n"
     ]
    },
    {
     "name": "stderr",
     "output_type": "stream",
     "text": [
      "Epoch 129: 100%|████████████████████████████████████████████████████████████████████████| 78/78 [00:00<00:00, 83.02it/s]\n"
     ]
    },
    {
     "name": "stdout",
     "output_type": "stream",
     "text": [
      "Updating counter: 38\n"
     ]
    },
    {
     "name": "stderr",
     "output_type": "stream",
     "text": [
      "Epoch 130: 100%|████████████████████████████████████████████████████████████████████████| 78/78 [00:00<00:00, 81.56it/s]\n"
     ]
    },
    {
     "name": "stdout",
     "output_type": "stream",
     "text": [
      "Updating counter: 39\n",
      "Epoch 130/200\n",
      "  Train Loss: 0.020242\n",
      "  Val Loss: 0.082492\n",
      "  Best Val Loss: 0.067502\n"
     ]
    },
    {
     "name": "stderr",
     "output_type": "stream",
     "text": [
      "Epoch 131: 100%|████████████████████████████████████████████████████████████████████████| 78/78 [00:00<00:00, 81.42it/s]\n"
     ]
    },
    {
     "name": "stdout",
     "output_type": "stream",
     "text": [
      "Updating counter: 40\n"
     ]
    },
    {
     "name": "stderr",
     "output_type": "stream",
     "text": [
      "Epoch 132: 100%|████████████████████████████████████████████████████████████████████████| 78/78 [00:00<00:00, 83.09it/s]\n"
     ]
    },
    {
     "name": "stdout",
     "output_type": "stream",
     "text": [
      "Updating counter: 41\n"
     ]
    },
    {
     "name": "stderr",
     "output_type": "stream",
     "text": [
      "Epoch 133: 100%|████████████████████████████████████████████████████████████████████████| 78/78 [00:00<00:00, 79.22it/s]\n"
     ]
    },
    {
     "name": "stdout",
     "output_type": "stream",
     "text": [
      "Updating counter: 42\n"
     ]
    },
    {
     "name": "stderr",
     "output_type": "stream",
     "text": [
      "Epoch 134: 100%|████████████████████████████████████████████████████████████████████████| 78/78 [00:00<00:00, 81.26it/s]\n"
     ]
    },
    {
     "name": "stdout",
     "output_type": "stream",
     "text": [
      "Updating counter: 43\n"
     ]
    },
    {
     "name": "stderr",
     "output_type": "stream",
     "text": [
      "Epoch 135: 100%|████████████████████████████████████████████████████████████████████████| 78/78 [00:00<00:00, 83.34it/s]\n"
     ]
    },
    {
     "name": "stdout",
     "output_type": "stream",
     "text": [
      "Updating counter: 44\n"
     ]
    },
    {
     "name": "stderr",
     "output_type": "stream",
     "text": [
      "Epoch 136: 100%|████████████████████████████████████████████████████████████████████████| 78/78 [00:00<00:00, 83.25it/s]\n"
     ]
    },
    {
     "name": "stdout",
     "output_type": "stream",
     "text": [
      "Updating counter: 45\n"
     ]
    },
    {
     "name": "stderr",
     "output_type": "stream",
     "text": [
      "Epoch 137: 100%|████████████████████████████████████████████████████████████████████████| 78/78 [00:00<00:00, 81.29it/s]\n"
     ]
    },
    {
     "name": "stdout",
     "output_type": "stream",
     "text": [
      "Updating counter: 46\n"
     ]
    },
    {
     "name": "stderr",
     "output_type": "stream",
     "text": [
      "Epoch 138: 100%|████████████████████████████████████████████████████████████████████████| 78/78 [00:00<00:00, 80.93it/s]\n"
     ]
    },
    {
     "name": "stdout",
     "output_type": "stream",
     "text": [
      "Updating counter: 47\n"
     ]
    },
    {
     "name": "stderr",
     "output_type": "stream",
     "text": [
      "Epoch 139: 100%|████████████████████████████████████████████████████████████████████████| 78/78 [00:00<00:00, 86.58it/s]\n"
     ]
    },
    {
     "name": "stdout",
     "output_type": "stream",
     "text": [
      "Updating counter: 48\n"
     ]
    },
    {
     "name": "stderr",
     "output_type": "stream",
     "text": [
      "Epoch 140: 100%|████████████████████████████████████████████████████████████████████████| 78/78 [00:00<00:00, 83.24it/s]\n"
     ]
    },
    {
     "name": "stdout",
     "output_type": "stream",
     "text": [
      "Updating counter: 49\n",
      "Epoch 140/200\n",
      "  Train Loss: 0.022392\n",
      "  Val Loss: 0.082156\n",
      "  Best Val Loss: 0.067502\n"
     ]
    },
    {
     "name": "stderr",
     "output_type": "stream",
     "text": [
      "Epoch 141: 100%|████████████████████████████████████████████████████████████████████████| 78/78 [00:00<00:00, 80.29it/s]\n"
     ]
    },
    {
     "name": "stdout",
     "output_type": "stream",
     "text": [
      "Updating counter: 50\n"
     ]
    },
    {
     "name": "stderr",
     "output_type": "stream",
     "text": [
      "Epoch 142: 100%|████████████████████████████████████████████████████████████████████████| 78/78 [00:00<00:00, 83.67it/s]\n"
     ]
    },
    {
     "name": "stdout",
     "output_type": "stream",
     "text": [
      "Updating counter: 51\n"
     ]
    },
    {
     "name": "stderr",
     "output_type": "stream",
     "text": [
      "Epoch 143: 100%|████████████████████████████████████████████████████████████████████████| 78/78 [00:00<00:00, 82.66it/s]\n"
     ]
    },
    {
     "name": "stdout",
     "output_type": "stream",
     "text": [
      "Updating counter: 52\n"
     ]
    },
    {
     "name": "stderr",
     "output_type": "stream",
     "text": [
      "Epoch 144: 100%|████████████████████████████████████████████████████████████████████████| 78/78 [00:00<00:00, 82.11it/s]\n"
     ]
    },
    {
     "name": "stdout",
     "output_type": "stream",
     "text": [
      "Updating counter: 53\n"
     ]
    },
    {
     "name": "stderr",
     "output_type": "stream",
     "text": [
      "Epoch 145: 100%|████████████████████████████████████████████████████████████████████████| 78/78 [00:00<00:00, 82.97it/s]\n"
     ]
    },
    {
     "name": "stdout",
     "output_type": "stream",
     "text": [
      "Updating counter: 54\n"
     ]
    },
    {
     "name": "stderr",
     "output_type": "stream",
     "text": [
      "Epoch 146: 100%|████████████████████████████████████████████████████████████████████████| 78/78 [00:00<00:00, 83.93it/s]\n"
     ]
    },
    {
     "name": "stdout",
     "output_type": "stream",
     "text": [
      "Updating counter: 55\n"
     ]
    },
    {
     "name": "stderr",
     "output_type": "stream",
     "text": [
      "Epoch 147: 100%|████████████████████████████████████████████████████████████████████████| 78/78 [00:00<00:00, 85.62it/s]\n"
     ]
    },
    {
     "name": "stdout",
     "output_type": "stream",
     "text": [
      "Updating counter: 56\n"
     ]
    },
    {
     "name": "stderr",
     "output_type": "stream",
     "text": [
      "Epoch 148: 100%|████████████████████████████████████████████████████████████████████████| 78/78 [00:00<00:00, 82.72it/s]\n"
     ]
    },
    {
     "name": "stdout",
     "output_type": "stream",
     "text": [
      "Updating counter: 57\n"
     ]
    },
    {
     "name": "stderr",
     "output_type": "stream",
     "text": [
      "Epoch 149: 100%|████████████████████████████████████████████████████████████████████████| 78/78 [00:00<00:00, 83.78it/s]\n"
     ]
    },
    {
     "name": "stdout",
     "output_type": "stream",
     "text": [
      "Updating counter: 58\n"
     ]
    },
    {
     "name": "stderr",
     "output_type": "stream",
     "text": [
      "Epoch 150: 100%|████████████████████████████████████████████████████████████████████████| 78/78 [00:00<00:00, 82.59it/s]\n"
     ]
    },
    {
     "name": "stdout",
     "output_type": "stream",
     "text": [
      "Updating counter: 59\n",
      "Epoch 150/200\n",
      "  Train Loss: 0.021433\n",
      "  Val Loss: 0.084762\n",
      "  Best Val Loss: 0.067502\n"
     ]
    },
    {
     "name": "stderr",
     "output_type": "stream",
     "text": [
      "Epoch 151: 100%|████████████████████████████████████████████████████████████████████████| 78/78 [00:00<00:00, 81.79it/s]\n"
     ]
    },
    {
     "name": "stdout",
     "output_type": "stream",
     "text": [
      "Updating counter: 60\n"
     ]
    },
    {
     "name": "stderr",
     "output_type": "stream",
     "text": [
      "Epoch 152: 100%|████████████████████████████████████████████████████████████████████████| 78/78 [00:00<00:00, 84.11it/s]\n"
     ]
    },
    {
     "name": "stdout",
     "output_type": "stream",
     "text": [
      "Updating counter: 61\n"
     ]
    },
    {
     "name": "stderr",
     "output_type": "stream",
     "text": [
      "Epoch 153: 100%|████████████████████████████████████████████████████████████████████████| 78/78 [00:00<00:00, 81.95it/s]\n"
     ]
    },
    {
     "name": "stdout",
     "output_type": "stream",
     "text": [
      "Updating counter: 62\n"
     ]
    },
    {
     "name": "stderr",
     "output_type": "stream",
     "text": [
      "Epoch 154: 100%|████████████████████████████████████████████████████████████████████████| 78/78 [00:00<00:00, 84.06it/s]\n"
     ]
    },
    {
     "name": "stdout",
     "output_type": "stream",
     "text": [
      "Updating counter: 63\n"
     ]
    },
    {
     "name": "stderr",
     "output_type": "stream",
     "text": [
      "Epoch 155: 100%|████████████████████████████████████████████████████████████████████████| 78/78 [00:00<00:00, 82.92it/s]\n"
     ]
    },
    {
     "name": "stdout",
     "output_type": "stream",
     "text": [
      "Updating counter: 64\n"
     ]
    },
    {
     "name": "stderr",
     "output_type": "stream",
     "text": [
      "Epoch 156: 100%|████████████████████████████████████████████████████████████████████████| 78/78 [00:00<00:00, 84.34it/s]\n"
     ]
    },
    {
     "name": "stdout",
     "output_type": "stream",
     "text": [
      "Updating counter: 65\n"
     ]
    },
    {
     "name": "stderr",
     "output_type": "stream",
     "text": [
      "Epoch 157: 100%|████████████████████████████████████████████████████████████████████████| 78/78 [00:00<00:00, 85.24it/s]\n"
     ]
    },
    {
     "name": "stdout",
     "output_type": "stream",
     "text": [
      "Updating counter: 66\n"
     ]
    },
    {
     "name": "stderr",
     "output_type": "stream",
     "text": [
      "Epoch 158: 100%|████████████████████████████████████████████████████████████████████████| 78/78 [00:00<00:00, 80.92it/s]\n"
     ]
    },
    {
     "name": "stdout",
     "output_type": "stream",
     "text": [
      "Updating counter: 67\n"
     ]
    },
    {
     "name": "stderr",
     "output_type": "stream",
     "text": [
      "Epoch 159: 100%|████████████████████████████████████████████████████████████████████████| 78/78 [00:00<00:00, 83.48it/s]\n"
     ]
    },
    {
     "name": "stdout",
     "output_type": "stream",
     "text": [
      "Updating counter: 68\n"
     ]
    },
    {
     "name": "stderr",
     "output_type": "stream",
     "text": [
      "Epoch 160: 100%|████████████████████████████████████████████████████████████████████████| 78/78 [00:00<00:00, 84.91it/s]\n"
     ]
    },
    {
     "name": "stdout",
     "output_type": "stream",
     "text": [
      "Updating counter: 69\n",
      "Epoch 160/200\n",
      "  Train Loss: 0.023483\n",
      "  Val Loss: 0.084819\n",
      "  Best Val Loss: 0.067502\n"
     ]
    },
    {
     "name": "stderr",
     "output_type": "stream",
     "text": [
      "Epoch 161: 100%|████████████████████████████████████████████████████████████████████████| 78/78 [00:00<00:00, 84.64it/s]\n"
     ]
    },
    {
     "name": "stdout",
     "output_type": "stream",
     "text": [
      "Updating counter: 70\n"
     ]
    },
    {
     "name": "stderr",
     "output_type": "stream",
     "text": [
      "Epoch 162: 100%|████████████████████████████████████████████████████████████████████████| 78/78 [00:00<00:00, 81.01it/s]\n"
     ]
    },
    {
     "name": "stdout",
     "output_type": "stream",
     "text": [
      "Updating counter: 71\n"
     ]
    },
    {
     "name": "stderr",
     "output_type": "stream",
     "text": [
      "Epoch 163: 100%|████████████████████████████████████████████████████████████████████████| 78/78 [00:00<00:00, 84.43it/s]\n"
     ]
    },
    {
     "name": "stdout",
     "output_type": "stream",
     "text": [
      "Updating counter: 72\n"
     ]
    },
    {
     "name": "stderr",
     "output_type": "stream",
     "text": [
      "Epoch 164: 100%|████████████████████████████████████████████████████████████████████████| 78/78 [00:00<00:00, 82.09it/s]\n"
     ]
    },
    {
     "name": "stdout",
     "output_type": "stream",
     "text": [
      "Updating counter: 73\n"
     ]
    },
    {
     "name": "stderr",
     "output_type": "stream",
     "text": [
      "Epoch 165: 100%|████████████████████████████████████████████████████████████████████████| 78/78 [00:00<00:00, 81.61it/s]\n"
     ]
    },
    {
     "name": "stdout",
     "output_type": "stream",
     "text": [
      "Updating counter: 74\n"
     ]
    },
    {
     "name": "stderr",
     "output_type": "stream",
     "text": [
      "Epoch 166: 100%|████████████████████████████████████████████████████████████████████████| 78/78 [00:00<00:00, 84.80it/s]\n"
     ]
    },
    {
     "name": "stdout",
     "output_type": "stream",
     "text": [
      "Updating counter: 75\n"
     ]
    },
    {
     "name": "stderr",
     "output_type": "stream",
     "text": [
      "Epoch 167: 100%|████████████████████████████████████████████████████████████████████████| 78/78 [00:00<00:00, 84.05it/s]\n"
     ]
    },
    {
     "name": "stdout",
     "output_type": "stream",
     "text": [
      "Updating counter: 76\n"
     ]
    },
    {
     "name": "stderr",
     "output_type": "stream",
     "text": [
      "Epoch 168: 100%|████████████████████████████████████████████████████████████████████████| 78/78 [00:00<00:00, 85.55it/s]\n"
     ]
    },
    {
     "name": "stdout",
     "output_type": "stream",
     "text": [
      "Updating counter: 77\n"
     ]
    },
    {
     "name": "stderr",
     "output_type": "stream",
     "text": [
      "Epoch 169: 100%|████████████████████████████████████████████████████████████████████████| 78/78 [00:00<00:00, 84.47it/s]\n"
     ]
    },
    {
     "name": "stdout",
     "output_type": "stream",
     "text": [
      "Updating counter: 78\n"
     ]
    },
    {
     "name": "stderr",
     "output_type": "stream",
     "text": [
      "Epoch 170: 100%|████████████████████████████████████████████████████████████████████████| 78/78 [00:00<00:00, 82.62it/s]\n"
     ]
    },
    {
     "name": "stdout",
     "output_type": "stream",
     "text": [
      "Updating counter: 79\n",
      "Epoch 170/200\n",
      "  Train Loss: 0.020001\n",
      "  Val Loss: 0.084082\n",
      "  Best Val Loss: 0.067502\n"
     ]
    },
    {
     "name": "stderr",
     "output_type": "stream",
     "text": [
      "Epoch 171: 100%|████████████████████████████████████████████████████████████████████████| 78/78 [00:00<00:00, 81.65it/s]\n"
     ]
    },
    {
     "name": "stdout",
     "output_type": "stream",
     "text": [
      "Updating counter: 80\n"
     ]
    },
    {
     "name": "stderr",
     "output_type": "stream",
     "text": [
      "Epoch 172: 100%|████████████████████████████████████████████████████████████████████████| 78/78 [00:00<00:00, 82.58it/s]\n"
     ]
    },
    {
     "name": "stdout",
     "output_type": "stream",
     "text": [
      "Updating counter: 81\n"
     ]
    },
    {
     "name": "stderr",
     "output_type": "stream",
     "text": [
      "Epoch 173: 100%|████████████████████████████████████████████████████████████████████████| 78/78 [00:00<00:00, 81.90it/s]\n"
     ]
    },
    {
     "name": "stdout",
     "output_type": "stream",
     "text": [
      "Updating counter: 82\n"
     ]
    },
    {
     "name": "stderr",
     "output_type": "stream",
     "text": [
      "Epoch 174: 100%|████████████████████████████████████████████████████████████████████████| 78/78 [00:00<00:00, 85.00it/s]\n"
     ]
    },
    {
     "name": "stdout",
     "output_type": "stream",
     "text": [
      "Updating counter: 83\n"
     ]
    },
    {
     "name": "stderr",
     "output_type": "stream",
     "text": [
      "Epoch 175: 100%|████████████████████████████████████████████████████████████████████████| 78/78 [00:00<00:00, 81.58it/s]\n"
     ]
    },
    {
     "name": "stdout",
     "output_type": "stream",
     "text": [
      "Updating counter: 84\n"
     ]
    },
    {
     "name": "stderr",
     "output_type": "stream",
     "text": [
      "Epoch 176: 100%|████████████████████████████████████████████████████████████████████████| 78/78 [00:00<00:00, 83.40it/s]\n"
     ]
    },
    {
     "name": "stdout",
     "output_type": "stream",
     "text": [
      "Updating counter: 85\n"
     ]
    },
    {
     "name": "stderr",
     "output_type": "stream",
     "text": [
      "Epoch 177: 100%|████████████████████████████████████████████████████████████████████████| 78/78 [00:00<00:00, 82.77it/s]\n"
     ]
    },
    {
     "name": "stdout",
     "output_type": "stream",
     "text": [
      "Updating counter: 86\n"
     ]
    },
    {
     "name": "stderr",
     "output_type": "stream",
     "text": [
      "Epoch 178: 100%|████████████████████████████████████████████████████████████████████████| 78/78 [00:00<00:00, 81.75it/s]\n"
     ]
    },
    {
     "name": "stdout",
     "output_type": "stream",
     "text": [
      "Updating counter: 87\n"
     ]
    },
    {
     "name": "stderr",
     "output_type": "stream",
     "text": [
      "Epoch 179: 100%|████████████████████████████████████████████████████████████████████████| 78/78 [00:00<00:00, 81.96it/s]\n"
     ]
    },
    {
     "name": "stdout",
     "output_type": "stream",
     "text": [
      "Updating counter: 88\n"
     ]
    },
    {
     "name": "stderr",
     "output_type": "stream",
     "text": [
      "Epoch 180: 100%|████████████████████████████████████████████████████████████████████████| 78/78 [00:00<00:00, 82.59it/s]\n"
     ]
    },
    {
     "name": "stdout",
     "output_type": "stream",
     "text": [
      "Updating counter: 89\n",
      "Epoch 180/200\n",
      "  Train Loss: 0.019287\n",
      "  Val Loss: 0.084407\n",
      "  Best Val Loss: 0.067502\n"
     ]
    },
    {
     "name": "stderr",
     "output_type": "stream",
     "text": [
      "Epoch 181: 100%|████████████████████████████████████████████████████████████████████████| 78/78 [00:00<00:00, 81.74it/s]\n"
     ]
    },
    {
     "name": "stdout",
     "output_type": "stream",
     "text": [
      "Updating counter: 90\n"
     ]
    },
    {
     "name": "stderr",
     "output_type": "stream",
     "text": [
      "Epoch 182: 100%|████████████████████████████████████████████████████████████████████████| 78/78 [00:00<00:00, 82.38it/s]\n"
     ]
    },
    {
     "name": "stdout",
     "output_type": "stream",
     "text": [
      "Updating counter: 91\n"
     ]
    },
    {
     "name": "stderr",
     "output_type": "stream",
     "text": [
      "Epoch 183: 100%|████████████████████████████████████████████████████████████████████████| 78/78 [00:00<00:00, 81.39it/s]\n"
     ]
    },
    {
     "name": "stdout",
     "output_type": "stream",
     "text": [
      "Updating counter: 92\n"
     ]
    },
    {
     "name": "stderr",
     "output_type": "stream",
     "text": [
      "Epoch 184: 100%|████████████████████████████████████████████████████████████████████████| 78/78 [00:00<00:00, 79.87it/s]\n"
     ]
    },
    {
     "name": "stdout",
     "output_type": "stream",
     "text": [
      "Updating counter: 93\n"
     ]
    },
    {
     "name": "stderr",
     "output_type": "stream",
     "text": [
      "Epoch 185: 100%|████████████████████████████████████████████████████████████████████████| 78/78 [00:00<00:00, 82.06it/s]\n"
     ]
    },
    {
     "name": "stdout",
     "output_type": "stream",
     "text": [
      "Updating counter: 94\n"
     ]
    },
    {
     "name": "stderr",
     "output_type": "stream",
     "text": [
      "Epoch 186: 100%|████████████████████████████████████████████████████████████████████████| 78/78 [00:00<00:00, 82.90it/s]\n"
     ]
    },
    {
     "name": "stdout",
     "output_type": "stream",
     "text": [
      "Updating counter: 95\n"
     ]
    },
    {
     "name": "stderr",
     "output_type": "stream",
     "text": [
      "Epoch 187: 100%|████████████████████████████████████████████████████████████████████████| 78/78 [00:00<00:00, 81.30it/s]\n"
     ]
    },
    {
     "name": "stdout",
     "output_type": "stream",
     "text": [
      "Updating counter: 96\n"
     ]
    },
    {
     "name": "stderr",
     "output_type": "stream",
     "text": [
      "Epoch 188: 100%|████████████████████████████████████████████████████████████████████████| 78/78 [00:00<00:00, 82.42it/s]\n"
     ]
    },
    {
     "name": "stdout",
     "output_type": "stream",
     "text": [
      "Updating counter: 97\n"
     ]
    },
    {
     "name": "stderr",
     "output_type": "stream",
     "text": [
      "Epoch 189: 100%|████████████████████████████████████████████████████████████████████████| 78/78 [00:00<00:00, 83.83it/s]\n"
     ]
    },
    {
     "name": "stdout",
     "output_type": "stream",
     "text": [
      "Updating counter: 98\n"
     ]
    },
    {
     "name": "stderr",
     "output_type": "stream",
     "text": [
      "Epoch 190: 100%|████████████████████████████████████████████████████████████████████████| 78/78 [00:00<00:00, 86.58it/s]\n"
     ]
    },
    {
     "name": "stdout",
     "output_type": "stream",
     "text": [
      "Updating counter: 99\n",
      "Epoch 190/200\n",
      "  Train Loss: 0.023327\n",
      "  Val Loss: 0.084747\n",
      "  Best Val Loss: 0.067502\n"
     ]
    },
    {
     "name": "stderr",
     "output_type": "stream",
     "text": [
      "Epoch 191: 100%|████████████████████████████████████████████████████████████████████████| 78/78 [00:00<00:00, 83.91it/s]\n"
     ]
    },
    {
     "name": "stdout",
     "output_type": "stream",
     "text": [
      "Updating counter: 100\n",
      "\n",
      "Early stopping at epoch 191\n",
      "\n",
      "Training completed!\n",
      "\n",
      "Evaluating model...\n",
      "\n",
      "LSTM Model Performance:\n",
      "  RMSE: 0.2777%\n",
      "  MAE: 0.2037%\n",
      "  Directional Accuracy: 89.0%\n",
      "  Correlation: 0.9655\n",
      "\n",
      "LSTM vs ARIMAX COMPARISON:\n",
      "=============================================\n",
      "RMSE:\n",
      "  ARIMAX: 1.2100%\n",
      "  LSTM: 0.2777%\n",
      "  Improvement: +77.1%\n",
      "\n",
      "Directional Accuracy:\n",
      "  ARIMAX: 48.8%\n",
      "  LSTM: 89.0%\n",
      "  Improvement: +82.3%\n",
      "\n",
      "Correlation:\n",
      "  ARIMAX: 0.0005\n",
      "  LSTM: 0.9655\n",
      "  Improvement: +0.9650\n",
      "\n",
      "SUCCESS METRICS:\n",
      "Above-random directional accuracy achieved!\n",
      "RMSE improvement over ARIMAX!\n",
      "Meaningful correlation achieved!\n",
      "\n",
      "LSTM Implementation Complete!\n"
     ]
    }
   ],
   "source": [
    "if __name__ == \"__main__\":\n",
    "    predictor, metrics, train_losses, val_losses= main()"
   ]
  },
  {
   "cell_type": "code",
   "execution_count": null,
   "id": "d98f5e83",
   "metadata": {},
   "outputs": [],
   "source": []
  },
  {
   "cell_type": "markdown",
   "id": "d8f6e18a",
   "metadata": {},
   "source": [
    "# Visualization"
   ]
  },
  {
   "cell_type": "code",
   "execution_count": 7,
   "id": "0b8ce6d5",
   "metadata": {},
   "outputs": [],
   "source": [
    "import matplotlib.pyplot as plt\n",
    "import numpy as np\n",
    "import pandas as pd\n",
    "import seaborn as sns\n",
    "from datetime import datetime\n",
    "import warnings\n",
    "warnings.filterwarnings('ignore')"
   ]
  },
  {
   "cell_type": "code",
   "execution_count": 8,
   "id": "d42b4640",
   "metadata": {},
   "outputs": [],
   "source": [
    "# Set style for professional plots\n",
    "plt.style.use('default')\n",
    "sns.set_palette(\"husl\")\n",
    "plt.rcParams['figure.figsize'] = (15, 10)\n",
    "plt.rcParams['font.size'] = 11\n",
    "plt.rcParams['axes.grid'] = True\n",
    "plt.rcParams['grid.alpha'] = 0.3"
   ]
  },
  {
   "cell_type": "code",
   "execution_count": 9,
   "id": "2a8a7a20",
   "metadata": {},
   "outputs": [],
   "source": [
    "def create_comprehensive_visualization(predictor, metrics, train_losses, val_losses):\n",
    "    \n",
    "    # Extract data\n",
    "    predictions = metrics['Predictions']\n",
    "    targets = metrics['Targets']\n",
    "    rmse = metrics['RMSE']\n",
    "    mae = metrics['MAE']\n",
    "    dir_acc = metrics['Directional_Accuracy']\n",
    "    correlation = metrics['Correlation']\n",
    "\n",
    "    # ARIMAX baseline metrics\n",
    "    arimax_rmse = 1.210\n",
    "    arimax_dir_acc = 0.488\n",
    "    arimax_corr = 0.0005\n",
    "\n",
    "    # Create subplot figure\n",
    "    fig = plt.figure(figsize=(20, 24))\n",
    "\n",
    "    # 1. Training Progress (Loss Curves)\n",
    "    ax1 = plt.subplot(4, 2, 1)\n",
    "    epochs = range(1, len(train_losses) + 1)\n",
    "    plt.plot(epochs, train_losses, 'b-', label='Training Loss', linewidth=2, alpha=0.8)\n",
    "    plt.plot(epochs, val_losses, 'r-', label='Validation Loss', linewidth=2, alpha=0.8)\n",
    "    plt.title('LSTM Training Progress\\nGold-Enhanced Feature Learning', fontsize=14, fontweight='bold')\n",
    "    plt.xlabel('Epoch')\n",
    "    plt.ylabel('Loss (MSE)')\n",
    "    plt.legend()\n",
    "    plt.grid(True, alpha=0.3)\n",
    "\n",
    "    # Add early stopping annotation\n",
    "    best_epoch = np.argmin(val_losses) + 1\n",
    "    plt.axvline(x=best_epoch, color='green', linestyle='--', alpha=0.7)\n",
    "    plt.annotate(f'Early Stop\\nEpoch {best_epoch}', \n",
    "                xy=(best_epoch, min(val_losses)), \n",
    "                xytext=(best_epoch + 5, min(val_losses) + 0.02),\n",
    "                arrowprops=dict(arrowstyle='->', color='green', alpha=0.7))\n",
    "\n",
    "    # 2. Performance Comparison Bar Chart\n",
    "    ax2 = plt.subplot(4, 2, 2)\n",
    "    metrics_names = ['RMSE (%)', 'Directional\\nAccuracy (%)', 'Correlation\\n(×100)']\n",
    "    arimax_values = [arimax_rmse, arimax_dir_acc * 100, arimax_corr * 100]\n",
    "    lstm_values = [rmse, dir_acc * 100, correlation * 100]\n",
    "\n",
    "    x = np.arange(len(metrics_names))\n",
    "    width = 0.35\n",
    "\n",
    "    bars1 = plt.bar(x - width/2, arimax_values, width, label='ARIMAX Baseline', \n",
    "                   color='lightcoral', alpha=0.8)\n",
    "    bars2 = plt.bar(x + width/2, lstm_values, width, label='Gold-Enhanced LSTM', \n",
    "                   color='gold', alpha=0.8)\n",
    "\n",
    "    plt.title('LSTM vs ARIMAX Performance Comparison\\nSpectacular Improvements Across All Metrics', \n",
    "              fontsize=14, fontweight='bold')\n",
    "    plt.ylabel('Performance Score')\n",
    "    plt.xticks(x, metrics_names)\n",
    "    plt.legend()\n",
    "    plt.grid(True, alpha=0.3)\n",
    "\n",
    "    # Add value labels on bars\n",
    "    for bar in bars1:\n",
    "        height = bar.get_height()\n",
    "        plt.text(bar.get_x() + bar.get_width()/2., height + 0.1,\n",
    "                f'{height:.2f}', ha='center', va='bottom', fontweight='bold')\n",
    "\n",
    "    for bar in bars2:\n",
    "        height = bar.get_height()\n",
    "        plt.text(bar.get_x() + bar.get_width()/2., height + 0.1,\n",
    "                f'{height:.2f}', ha='center', va='bottom', fontweight='bold', color='darkred')\n",
    "\n",
    "    # 3. Time Series: Actual vs Predicted Returns\n",
    "    ax3 = plt.subplot(4, 1, 2)\n",
    "\n",
    "    # Create time index (assuming we have the last portion of data)\n",
    "    time_index = range(len(predictions))\n",
    "\n",
    "    plt.plot(time_index, targets, 'b-', label='Actual Returns', linewidth=1.5, alpha=0.8)\n",
    "    plt.plot(time_index, predictions, 'r--', label='LSTM Predictions', linewidth=1.5, alpha=0.8)\n",
    "\n",
    "    plt.title('LSTM Predictions vs Actual S&P 500 Returns\\n70.3% Directional Accuracy - Outstanding Performance!', \n",
    "              fontsize=14, fontweight='bold')\n",
    "    plt.xlabel('Test Period (Trading Days)')\n",
    "    plt.ylabel('Daily Returns (%)')\n",
    "    plt.legend()\n",
    "    plt.grid(True, alpha=0.3)\n",
    "\n",
    "    # Highlight some good predictions\n",
    "    correct_predictions = np.sign(targets) == np.sign(predictions)\n",
    "    plt.fill_between(time_index, plt.ylim()[0], plt.ylim()[1], \n",
    "                    where=correct_predictions, alpha=0.1, color='green', \n",
    "                    label='Correct Direction')\n",
    "\n",
    "    # 4. Scatter Plot: Predicted vs Actual\n",
    "    ax4 = plt.subplot(4, 2, 5)\n",
    "\n",
    "    # Color points by directional accuracy\n",
    "    colors = ['green' if np.sign(targets[i]) == np.sign(predictions[i]) else 'red' \n",
    "              for i in range(len(targets))]\n",
    "\n",
    "    plt.scatter(targets, predictions, c=colors, alpha=0.6, s=30)\n",
    "\n",
    "    # Perfect prediction line\n",
    "    min_val = min(min(targets), min(predictions))\n",
    "    max_val = max(max(targets), max(predictions))\n",
    "    plt.plot([min_val, max_val], [min_val, max_val], 'k--', alpha=0.5, linewidth=2)\n",
    "\n",
    "    plt.title(f'Prediction Accuracy Scatter Plot\\nCorrelation: {correlation:.4f} (Excellent!)', \n",
    "              fontsize=12, fontweight='bold')\n",
    "    plt.xlabel('Actual Returns (%)')\n",
    "    plt.ylabel('Predicted Returns (%)')\n",
    "    plt.grid(True, alpha=0.3)\n",
    "\n",
    "    # Add correlation text\n",
    "    plt.text(0.05, 0.95, f'R² = {correlation**2:.3f}\\nCorrect Direction: {dir_acc:.1%}', \n",
    "             transform=ax4.transAxes, bbox=dict(boxstyle='round', facecolor='lightblue', alpha=0.8),\n",
    "             verticalalignment='top')\n",
    "\n",
    "    # 5. Residual Analysis\n",
    "    ax5 = plt.subplot(4, 2, 6)\n",
    "    residuals = targets - predictions\n",
    "\n",
    "    plt.hist(residuals, bins=30, alpha=0.7, color='skyblue', edgecolor='black')\n",
    "    plt.title('Prediction Residuals Distribution\\nWell-Centered Around Zero', fontsize=12, fontweight='bold')\n",
    "    plt.xlabel('Prediction Error (%)')\n",
    "    plt.ylabel('Frequency')\n",
    "    plt.grid(True, alpha=0.3)\n",
    "\n",
    "    # Add statistics\n",
    "    plt.axvline(residuals.mean(), color='red', linestyle='--', linewidth=2, \n",
    "                label=f'Mean: {residuals.mean():.4f}%')\n",
    "    plt.legend()\n",
    "\n",
    "    # 6. Improvement Metrics Visualization\n",
    "    ax6 = plt.subplot(4, 2, 7)\n",
    "\n",
    "    improvements = [\n",
    "        ('RMSE\\nImprovement', ((arimax_rmse - rmse) / arimax_rmse) * 100),\n",
    "        ('Directional\\nImprovement', ((dir_acc - arimax_dir_acc) / arimax_dir_acc) * 100),\n",
    "        ('Correlation\\nGain', (correlation - arimax_corr) * 100)\n",
    "    ]\n",
    "\n",
    "    labels, values = zip(*improvements)\n",
    "    colors_imp = ['lightgreen', 'gold', 'lightblue']\n",
    "\n",
    "    bars = plt.bar(labels, values, color=colors_imp, alpha=0.8, edgecolor='black')\n",
    "    plt.title('LSTM Performance Improvements\\nMassive Gains Across All Metrics', \n",
    "              fontsize=12, fontweight='bold')\n",
    "    plt.ylabel('Improvement (%)')\n",
    "    plt.grid(True, alpha=0.3)\n",
    "\n",
    "    # Add value labels\n",
    "    for bar in bars:\n",
    "        height = bar.get_height()\n",
    "        plt.text(bar.get_x() + bar.get_width()/2., height + 1,\n",
    "                f'+{height:.1f}%', ha='center', va='bottom', fontweight='bold', fontsize=11)\n",
    "\n",
    "    # 7. Directional Accuracy Over Time\n",
    "    ax7 = plt.subplot(4, 2, 8)\n",
    "\n",
    "    # Calculate rolling directional accuracy\n",
    "    window = 50\n",
    "    rolling_accuracy = []\n",
    "    for i in range(window, len(targets)):\n",
    "        subset_targets = targets[i-window:i]\n",
    "        subset_predictions = predictions[i-window:i]\n",
    "        accuracy = np.mean(np.sign(subset_targets) == np.sign(subset_predictions))\n",
    "        rolling_accuracy.append(accuracy * 100)\n",
    "\n",
    "    time_rolling = range(window, len(targets))\n",
    "    plt.plot(time_rolling, rolling_accuracy, 'g-', linewidth=2, alpha=0.8)\n",
    "    plt.axhline(y=50, color='red', linestyle='--', alpha=0.7, label='Random (50%)')\n",
    "    plt.axhline(y=arimax_dir_acc*100, color='orange', linestyle='--', alpha=0.7, label='ARIMAX (48.8%)')\n",
    "\n",
    "    plt.title(f'Rolling Directional Accuracy ({window}-Day Window)\\nConsistently Above Random and ARIMAX', \n",
    "              fontsize=12, fontweight='bold')\n",
    "    plt.xlabel('Test Period (Trading Days)')\n",
    "    plt.ylabel('Directional Accuracy (%)')\n",
    "    plt.legend()\n",
    "    plt.grid(True, alpha=0.3)\n",
    "    plt.ylim(30, 90)\n",
    "\n",
    "    plt.tight_layout()\n",
    "\n",
    "    # Save the comprehensive plot\n",
    "    timestamp = datetime.now().strftime(\"%Y%m%d_%H%M%S\")\n",
    "    filename = f'reports/figures/lstm_results_comprehensive_{timestamp}.png'\n",
    "    plt.savefig(filename, dpi=300, bbox_inches='tight', facecolor='white')\n",
    "    print(f\"Comprehensive visualization saved: {filename}\")\n",
    "\n",
    "    plt.show()\n",
    "\n",
    "    return fig"
   ]
  },
  {
   "cell_type": "code",
   "execution_count": 10,
   "id": "7ead354c",
   "metadata": {},
   "outputs": [],
   "source": [
    "def visualize_lstm_results(predictor=None, metrics=None, train_losses=None, val_losses=None):\n",
    "    print(\"Creating comprehensive LSTM results visualization...\")\n",
    "\n",
    "    fig1 = create_comprehensive_visualization(predictor, metrics, train_losses, val_losses)\n",
    "\n",
    "\n",
    "    print(\"\\nVISUALIZATION COMPLETE!\")\n",
    "    print(\"=\"*40)\n",
    "    print(\"Created:\")\n",
    "    print(\"• Comprehensive analysis plots\")\n",
    "    print(\"• Summary dashboard\")\n",
    "    print(\"• Detailed results report\")\n",
    "\n",
    "    return fig1"
   ]
  },
  {
   "cell_type": "code",
   "execution_count": 11,
   "id": "52cfad4e",
   "metadata": {},
   "outputs": [
    {
     "name": "stdout",
     "output_type": "stream",
     "text": [
      "Creating comprehensive LSTM results visualization...\n",
      "Comprehensive visualization saved: reports/figures/lstm_results_comprehensive_20251006_203144.png\n"
     ]
    },
    {
     "data": {
      "image/png": "[encoded data removed]",
      "text/plain": [
       "<Figure size 2000x2400 with 7 Axes>"
      ]
     },
     "metadata": {},
     "output_type": "display_data"
    },
    {
     "name": "stdout",
     "output_type": "stream",
     "text": [
      "\n",
      "VISUALIZATION COMPLETE!\n",
      "========================================\n",
      "Created:\n",
      "• Comprehensive analysis plots\n",
      "• Summary dashboard\n",
      "• Detailed results report\n"
     ]
    }
   ],
   "source": [
    "\n",
    "if __name__ == \"__main__\":\n",
    "    visualize_lstm_results(predictor=predictor, metrics=metrics, train_losses=train_losses, val_losses=val_losses)\n"
   ]
  },
  {
   "cell_type": "code",
   "execution_count": null,
   "id": "9b5ddedf",
   "metadata": {},
   "outputs": [],
   "source": []
  },
  {
   "cell_type": "code",
   "execution_count": 2,
   "id": "d7c04f70",
   "metadata": {},
   "outputs": [],
   "source": [
    "df = pd.read_csv('optimized_financial_data.csv', index_col=0, parse_dates=True)"
   ]
  },
  {
   "cell_type": "code",
   "execution_count": 7,
   "id": "4e7501fa",
   "metadata": {},
   "outputs": [
    {
     "data": {
      "text/plain": [
       "Index(['SP500_Close', 'SP500_Volume', 'SP500_Returns', 'VIX', 'Treasury_10Y',\n",
       "       'Yield_Spread', 'CPI', 'Unemployment', 'Fed_Rate', 'Consumer_Sentiment',\n",
       "       'Industrial_Production', 'Wilshire5000', 'Inflation_YoY',\n",
       "       'SP500_Volatility', 'VIX_lag_1', 'VIX_lag_5', 'VIX_lag_10', 'VIX_MA_10',\n",
       "       'VIX_relative', 'VIX_spike', 'Volatility_5d', 'Volatility_10d',\n",
       "       'Volatility_20d', 'MA_10', 'Price_to_MA_10', 'MA_20', 'Price_to_MA_20',\n",
       "       'MA_50', 'Price_to_MA_50', 'MA_10_vs_20', 'MA_20_vs_50', 'RSI',\n",
       "       'RSI_overbought', 'RSI_oversold', 'Momentum_5d', 'Momentum_5d_positive',\n",
       "       'Momentum_10d', 'Momentum_10d_positive', 'Momentum_20d',\n",
       "       'Momentum_20d_positive', 'DayOfWeek', 'Month', 'Quarter', 'IsMonthEnd',\n",
       "       'Yield_Spread_MA', 'Yield_Spread_relative', 'Yield_Curve_Inversion',\n",
       "       'Treasury_10Y_change', 'Treasury_10Y_MA', 'Treasury_Rising', 'CPI_YoY',\n",
       "       'CPI_acceleration', 'Unemployment_change', 'Unemployment_Rising',\n",
       "       'Stock_Bond_Corr', 'Gold_Price', 'Gold_Returns', 'Gold_SPX_Ratio',\n",
       "       'Gold_SPX_Ratio_Norm', 'Real_Interest_Rate', 'Gold_Real_Rate_Signal',\n",
       "       'Gold_Momentum_10d', 'Gold_Momentum_Strength', 'Gold_Vol_Regime',\n",
       "       'Gold_Trend_Direction', 'Gold_Trend_Strength', 'Gold_Safe_Haven',\n",
       "       'Gold_Returns_lag5'],\n",
       "      dtype='object')"
      ]
     },
     "execution_count": 7,
     "metadata": {},
     "output_type": "execute_result"
    }
   ],
   "source": [
    "df.columns"
   ]
  },
  {
   "cell_type": "code",
   "execution_count": null,
   "id": "66347692",
   "metadata": {},
   "outputs": [],
   "source": []
  }
 ],
 "metadata": {
  "kernelspec": {
   "display_name": "Python 3 (ipykernel)",
   "language": "python",
   "name": "python3"
  },
  "language_info": {
   "codemirror_mode": {
    "name": "ipython",
    "version": 3
   },
   "file_extension": ".py",
   "mimetype": "text/x-python",
   "name": "python",
   "nbconvert_exporter": "python",
   "pygments_lexer": "ipython3",
   "version": "3.9.13"
  }
 },
 "nbformat": 4,
 "nbformat_minor": 5
}
